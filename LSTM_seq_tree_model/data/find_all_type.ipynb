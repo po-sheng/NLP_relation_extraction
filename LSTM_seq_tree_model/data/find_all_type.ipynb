{
 "cells": [
  {
   "cell_type": "code",
   "execution_count": 100,
   "metadata": {},
   "outputs": [],
   "source": [
    "import sys \n",
    "import _pickle as pickle\n",
    "sys.path.append(\"/work/corpus_reader\")"
   ]
  },
  {
   "cell_type": "code",
   "execution_count": 101,
   "metadata": {},
   "outputs": [],
   "source": [
    "sys.path.append(\"/work/corpus_reader/corpus_reader/miwa_reader\")\n",
    "from miwa_reader import MiwaReader"
   ]
  },
  {
   "cell_type": "code",
   "execution_count": 102,
   "metadata": {},
   "outputs": [],
   "source": [
    "reader = MiwaReader()"
   ]
  },
  {
   "cell_type": "code",
   "execution_count": 103,
   "metadata": {},
   "outputs": [],
   "source": [
    "docs = reader.read(\"/work/miwa2016/corpus/dev/\")"
   ]
  },
  {
   "cell_type": "code",
   "execution_count": 104,
   "metadata": {},
   "outputs": [],
   "source": [
    "rel = {}\n",
    "pos = {}\n",
    "dep = {}"
   ]
  },
  {
   "cell_type": "code",
   "execution_count": 105,
   "metadata": {},
   "outputs": [
    {
     "name": "stdout",
     "output_type": "stream",
     "text": [
      "aaa\n",
      "{'ORG-AFF': 0, 'GEN-AFF': 1, 'PHYS': 2, 'PART-WHOLE': 3, 'ART': 4, 'PER-SOC': 5}\n",
      "{'NN': 0, 'CD': 1, 'JJ': 2, 'RB': 3, 'DT': 4, 'NNS': 5, 'VB': 6, '.': 7, 'NNP': 8, 'POS': 9, '$': 10, 'IN': 11, 'VBZ': 12, ',': 13, 'VBN': 14, 'CC': 15, 'VBD': 16, 'EX': 17, 'WRB': 18, 'VBP': 19, 'VBG': 20, \"''\": 21, 'MD': 22, 'RP': 23, 'JJR': 24, 'PRP': 25, 'WP': 26, ':': 27, 'TO': 28, 'JJS': 29, 'PRP$': 30, 'RBR': 31, '``': 32, 'WP$': 33, 'WDT': 34, 'NNPS': 35, 'RBS': 36, 'PDT': 37, 'SYM': 38, 'LS': 39, 'UH': 40, 'FW': 41}\n",
      "{'ROOT': 0, 'num': 1, 'nn': 2, 'amod': 3, 'neg': 4, 'det': 5, 'nsubj': 6, 'punct': 7, 'poss': 8, 'possessive': 9, 'number': 10, 'dep': 11, 'prep': 12, 'pobj': 13, 'aux': 14, 'vmod': 15, 'cc': 16, 'conj': 17, 'expl': 18, 'rcmod': 19, 'advmod': 20, 'advcl': 21, 'dobj': 22, 'cop': 23, 'pcomp': 24, 'prt': 25, 'mark': 26, 'ccomp': 27, 'parataxis': 28, 'acomp': 29, 'nsubjpass': 30, 'auxpass': 31, 'tmod': 32, 'appos': 33, 'xcomp': 34, 'quantmod': 35, 'iobj': 36, 'predet': 37, 'csubj': 38, 'npadvmod': 39, 'mwe': 40, 'preconj': 41, 'discourse': 42, 'csubjpass': 43}\n"
     ]
    }
   ],
   "source": [
    "for file_name in docs:\n",
    "    for sentence_index in range(len(docs[file_name].sentences)):\n",
    "        for rlt_idx in range(len(docs[file_name].sentences[sentence_index].relation_mentions)):\n",
    "            if docs[file_name].sentences[sentence_index].relation_mentions[rlt_idx].type not in rel:\n",
    "                rel[docs[file_name].sentences[sentence_index].relation_mentions[rlt_idx].type] = len(rel)\n",
    "        for tok_idx in range(len(docs[file_name].sentences[sentence_index].tokens)):\n",
    "            if docs[file_name].sentences[sentence_index].tokens[tok_idx].pos not in pos:\n",
    "                pos[docs[file_name].sentences[sentence_index].tokens[tok_idx].pos] = len(pos)\n",
    "            if docs[file_name].sentences[sentence_index].tokens[tok_idx].dep_type not in dep:\n",
    "                dep[docs[file_name].sentences[sentence_index].tokens[tok_idx].dep_type] = len(dep)"
   ]
  },
  {
   "cell_type": "code",
   "execution_count": 106,
   "metadata": {},
   "outputs": [],
   "source": [
    "docs = reader.read(\"/work/miwa2016/corpus/train/\")"
   ]
  },
  {
   "cell_type": "code",
   "execution_count": 107,
   "metadata": {},
   "outputs": [],
   "source": [
    "for file_name in docs:\n",
    "    for sentence_index in range(len(docs[file_name].sentences)):\n",
    "\n",
    "        for rlt_idx in range(len(docs[file_name].sentences[sentence_index].relation_mentions)):\n",
    "            if docs[file_name].sentences[sentence_index].relation_mentions[rlt_idx].type not in rel:\n",
    "                rel[docs[file_name].sentences[sentence_index].relation_mentions[rlt_idx].type] = len(rel)\n",
    "        for tok_idx in range(len(docs[file_name].sentences[sentence_index].tokens)):\n",
    "            if docs[file_name].sentences[sentence_index].tokens[tok_idx].pos not in pos:\n",
    "                pos[docs[file_name].sentences[sentence_index].tokens[tok_idx].pos] = len(pos)\n",
    "            if docs[file_name].sentences[sentence_index].tokens[tok_idx].dep_type not in dep:\n",
    "                dep[docs[file_name].sentences[sentence_index].tokens[tok_idx].dep_type] = len(dep)"
   ]
  },
  {
   "cell_type": "code",
   "execution_count": 108,
   "metadata": {},
   "outputs": [],
   "source": [
    "docs = reader.read(\"/work/miwa2016/corpus/test/\")"
   ]
  },
  {
   "cell_type": "code",
   "execution_count": 109,
   "metadata": {},
   "outputs": [],
   "source": [
    "for file_name in docs:\n",
    "    for sentence_index in range(len(docs[file_name].sentences)):\n",
    "        for rlt_idx in range(len(docs[file_name].sentences[sentence_index].relation_mentions)):\n",
    "            if docs[file_name].sentences[sentence_index].relation_mentions[rlt_idx].type not in rel:\n",
    "                rel[docs[file_name].sentences[sentence_index].relation_mentions[rlt_idx].type] = len(rel)\n",
    "        for tok_idx in range(len(docs[file_name].sentences[sentence_index].tokens)):\n",
    "            if docs[file_name].sentences[sentence_index].tokens[tok_idx].pos not in pos:\n",
    "                pos[docs[file_name].sentences[sentence_index].tokens[tok_idx].pos] = len(pos)\n",
    "            if docs[file_name].sentences[sentence_index].tokens[tok_idx].dep_type not in dep:\n",
    "                dep[docs[file_name].sentences[sentence_index].tokens[tok_idx].dep_type] = len(dep)"
   ]
  },
  {
   "cell_type": "code",
   "execution_count": 110,
   "metadata": {},
   "outputs": [],
   "source": [
    "docs = reader.read(\"/work/miwa2016/corpus/train+dev/\")"
   ]
  },
  {
   "cell_type": "code",
   "execution_count": 111,
   "metadata": {},
   "outputs": [],
   "source": [
    "for file_name in docs:\n",
    "    for sentence_index in range(len(docs[file_name].sentences)):\n",
    "        for rlt_idx in range(len(docs[file_name].sentences[sentence_index].relation_mentions)):\n",
    "            if docs[file_name].sentences[sentence_index].relation_mentions[rlt_idx].type not in rel:\n",
    "                rel[docs[file_name].sentences[sentence_index].relation_mentions[rlt_idx].type] = len(rel)\n",
    "        for tok_idx in range(len(docs[file_name].sentences[sentence_index].tokens)):\n",
    "            if docs[file_name].sentences[sentence_index].tokens[tok_idx].pos not in pos:\n",
    "                pos[docs[file_name].sentences[sentence_index].tokens[tok_idx].pos] = len(pos)\n",
    "            if docs[file_name].sentences[sentence_index].tokens[tok_idx].dep_type not in dep:\n",
    "                dep[docs[file_name].sentences[sentence_index].tokens[tok_idx].dep_type] = len(dep)"
   ]
  },
  {
   "cell_type": "code",
   "execution_count": 112,
   "metadata": {},
   "outputs": [
    {
     "name": "stdout",
     "output_type": "stream",
     "text": [
      "{'ROOT': 0, 'num': 1, 'nn': 2, 'amod': 3, 'neg': 4, 'det': 5, 'nsubj': 6, 'punct': 7, 'poss': 8, 'possessive': 9, 'number': 10, 'dep': 11, 'prep': 12, 'pobj': 13, 'aux': 14, 'vmod': 15, 'cc': 16, 'conj': 17, 'expl': 18, 'rcmod': 19, 'advmod': 20, 'advcl': 21, 'dobj': 22, 'cop': 23, 'pcomp': 24, 'prt': 25, 'mark': 26, 'ccomp': 27, 'parataxis': 28, 'acomp': 29, 'nsubjpass': 30, 'auxpass': 31, 'tmod': 32, 'appos': 33, 'xcomp': 34, 'quantmod': 35, 'iobj': 36, 'predet': 37, 'csubj': 38, 'npadvmod': 39, 'mwe': 40, 'preconj': 41, 'discourse': 42, 'csubjpass': 43}\n"
     ]
    }
   ],
   "source": [
    "print(dep)"
   ]
  }
 ],
 "metadata": {
  "kernelspec": {
   "display_name": "Python 3",
   "language": "python",
   "name": "python3"
  },
  "language_info": {
   "codemirror_mode": {
    "name": "ipython",
    "version": 3
   },
   "file_extension": ".py",
   "mimetype": "text/x-python",
   "name": "python",
   "nbconvert_exporter": "python",
   "pygments_lexer": "ipython3",
   "version": "3.6.9"
  }
 },
 "nbformat": 4,
 "nbformat_minor": 4
}
