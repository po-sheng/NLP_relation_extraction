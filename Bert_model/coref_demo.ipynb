{
 "cells": [
  {
   "cell_type": "code",
   "execution_count": 44,
   "metadata": {},
   "outputs": [],
   "source": [
    "from stanfordcorenlp import StanfordCoreNLP\n",
    "import json"
   ]
  },
  {
   "cell_type": "code",
   "execution_count": 45,
   "metadata": {},
   "outputs": [],
   "source": [
    "nlp = StanfordCoreNLP(\"http://140.109.19.190\", port = 9000, lang = \"en\")"
   ]
  },
  {
   "cell_type": "code",
   "execution_count": 46,
   "metadata": {},
   "outputs": [],
   "source": [
    "props = {'annotators': 'coref', 'outputFormat': 'json', 'pipelineLanguage': 'en'}"
   ]
  },
  {
   "cell_type": "code",
   "execution_count": 47,
   "metadata": {},
   "outputs": [],
   "source": [
    "text = \"he ' ll fly to his first public appearance since returning to his home state aboard the \tprivate jet \""
   ]
  },
  {
   "cell_type": "code",
   "execution_count": 48,
   "metadata": {},
   "outputs": [],
   "source": [
    "doc = json.loads(nlp.annotate(text, properties=props))"
   ]
  },
  {
   "cell_type": "code",
   "execution_count": 49,
   "metadata": {},
   "outputs": [
    {
     "name": "stdout",
     "output_type": "stream",
     "text": [
      "<class 'dict'>\n",
      "dict_keys(['sentences', 'corefs'])\n"
     ]
    }
   ],
   "source": [
    "print(type(doc))\n",
    "print(doc.keys())"
   ]
  },
  {
   "cell_type": "code",
   "execution_count": 50,
   "metadata": {
    "collapsed": true,
    "jupyter": {
     "outputs_hidden": true
    }
   },
   "outputs": [
    {
     "name": "stdout",
     "output_type": "stream",
     "text": [
      "{'index': 0, 'basicDependencies': [{'dep': 'ROOT', 'governor': 0, 'governorGloss': 'ROOT', 'dependent': 4, 'dependentGloss': 'fly'}, {'dep': 'nsubj', 'governor': 4, 'governorGloss': 'fly', 'dependent': 1, 'dependentGloss': 'he'}, {'dep': 'punct', 'governor': 4, 'governorGloss': 'fly', 'dependent': 2, 'dependentGloss': \"'\"}, {'dep': 'compound', 'governor': 4, 'governorGloss': 'fly', 'dependent': 3, 'dependentGloss': 'll'}, {'dep': 'case', 'governor': 9, 'governorGloss': 'appearance', 'dependent': 5, 'dependentGloss': 'to'}, {'dep': 'nmod:poss', 'governor': 9, 'governorGloss': 'appearance', 'dependent': 6, 'dependentGloss': 'his'}, {'dep': 'amod', 'governor': 9, 'governorGloss': 'appearance', 'dependent': 7, 'dependentGloss': 'first'}, {'dep': 'amod', 'governor': 9, 'governorGloss': 'appearance', 'dependent': 8, 'dependentGloss': 'public'}, {'dep': 'nmod', 'governor': 4, 'governorGloss': 'fly', 'dependent': 9, 'dependentGloss': 'appearance'}, {'dep': 'mark', 'governor': 11, 'governorGloss': 'returning', 'dependent': 10, 'dependentGloss': 'since'}, {'dep': 'advcl', 'governor': 4, 'governorGloss': 'fly', 'dependent': 11, 'dependentGloss': 'returning'}, {'dep': 'case', 'governor': 15, 'governorGloss': 'state', 'dependent': 12, 'dependentGloss': 'to'}, {'dep': 'nmod:poss', 'governor': 15, 'governorGloss': 'state', 'dependent': 13, 'dependentGloss': 'his'}, {'dep': 'compound', 'governor': 15, 'governorGloss': 'state', 'dependent': 14, 'dependentGloss': 'home'}, {'dep': 'nmod', 'governor': 11, 'governorGloss': 'returning', 'dependent': 15, 'dependentGloss': 'state'}, {'dep': 'case', 'governor': 19, 'governorGloss': 'jet', 'dependent': 16, 'dependentGloss': 'aboard'}, {'dep': 'det', 'governor': 19, 'governorGloss': 'jet', 'dependent': 17, 'dependentGloss': 'the'}, {'dep': 'amod', 'governor': 19, 'governorGloss': 'jet', 'dependent': 18, 'dependentGloss': 'private'}, {'dep': 'nmod', 'governor': 11, 'governorGloss': 'returning', 'dependent': 19, 'dependentGloss': 'jet'}], 'enhancedDependencies': [{'dep': 'ROOT', 'governor': 0, 'governorGloss': 'ROOT', 'dependent': 4, 'dependentGloss': 'fly'}, {'dep': 'nsubj', 'governor': 4, 'governorGloss': 'fly', 'dependent': 1, 'dependentGloss': 'he'}, {'dep': 'punct', 'governor': 4, 'governorGloss': 'fly', 'dependent': 2, 'dependentGloss': \"'\"}, {'dep': 'compound', 'governor': 4, 'governorGloss': 'fly', 'dependent': 3, 'dependentGloss': 'll'}, {'dep': 'case', 'governor': 9, 'governorGloss': 'appearance', 'dependent': 5, 'dependentGloss': 'to'}, {'dep': 'nmod:poss', 'governor': 9, 'governorGloss': 'appearance', 'dependent': 6, 'dependentGloss': 'his'}, {'dep': 'amod', 'governor': 9, 'governorGloss': 'appearance', 'dependent': 7, 'dependentGloss': 'first'}, {'dep': 'amod', 'governor': 9, 'governorGloss': 'appearance', 'dependent': 8, 'dependentGloss': 'public'}, {'dep': 'nmod:to', 'governor': 4, 'governorGloss': 'fly', 'dependent': 9, 'dependentGloss': 'appearance'}, {'dep': 'mark', 'governor': 11, 'governorGloss': 'returning', 'dependent': 10, 'dependentGloss': 'since'}, {'dep': 'advcl:since', 'governor': 4, 'governorGloss': 'fly', 'dependent': 11, 'dependentGloss': 'returning'}, {'dep': 'case', 'governor': 15, 'governorGloss': 'state', 'dependent': 12, 'dependentGloss': 'to'}, {'dep': 'nmod:poss', 'governor': 15, 'governorGloss': 'state', 'dependent': 13, 'dependentGloss': 'his'}, {'dep': 'compound', 'governor': 15, 'governorGloss': 'state', 'dependent': 14, 'dependentGloss': 'home'}, {'dep': 'nmod:to', 'governor': 11, 'governorGloss': 'returning', 'dependent': 15, 'dependentGloss': 'state'}, {'dep': 'case', 'governor': 19, 'governorGloss': 'jet', 'dependent': 16, 'dependentGloss': 'aboard'}, {'dep': 'det', 'governor': 19, 'governorGloss': 'jet', 'dependent': 17, 'dependentGloss': 'the'}, {'dep': 'amod', 'governor': 19, 'governorGloss': 'jet', 'dependent': 18, 'dependentGloss': 'private'}, {'dep': 'nmod:aboard', 'governor': 11, 'governorGloss': 'returning', 'dependent': 19, 'dependentGloss': 'jet'}], 'enhancedPlusPlusDependencies': [{'dep': 'ROOT', 'governor': 0, 'governorGloss': 'ROOT', 'dependent': 4, 'dependentGloss': 'fly'}, {'dep': 'nsubj', 'governor': 4, 'governorGloss': 'fly', 'dependent': 1, 'dependentGloss': 'he'}, {'dep': 'punct', 'governor': 4, 'governorGloss': 'fly', 'dependent': 2, 'dependentGloss': \"'\"}, {'dep': 'compound', 'governor': 4, 'governorGloss': 'fly', 'dependent': 3, 'dependentGloss': 'll'}, {'dep': 'case', 'governor': 9, 'governorGloss': 'appearance', 'dependent': 5, 'dependentGloss': 'to'}, {'dep': 'nmod:poss', 'governor': 9, 'governorGloss': 'appearance', 'dependent': 6, 'dependentGloss': 'his'}, {'dep': 'amod', 'governor': 9, 'governorGloss': 'appearance', 'dependent': 7, 'dependentGloss': 'first'}, {'dep': 'amod', 'governor': 9, 'governorGloss': 'appearance', 'dependent': 8, 'dependentGloss': 'public'}, {'dep': 'nmod:to', 'governor': 4, 'governorGloss': 'fly', 'dependent': 9, 'dependentGloss': 'appearance'}, {'dep': 'mark', 'governor': 11, 'governorGloss': 'returning', 'dependent': 10, 'dependentGloss': 'since'}, {'dep': 'advcl:since', 'governor': 4, 'governorGloss': 'fly', 'dependent': 11, 'dependentGloss': 'returning'}, {'dep': 'case', 'governor': 15, 'governorGloss': 'state', 'dependent': 12, 'dependentGloss': 'to'}, {'dep': 'nmod:poss', 'governor': 15, 'governorGloss': 'state', 'dependent': 13, 'dependentGloss': 'his'}, {'dep': 'compound', 'governor': 15, 'governorGloss': 'state', 'dependent': 14, 'dependentGloss': 'home'}, {'dep': 'nmod:to', 'governor': 11, 'governorGloss': 'returning', 'dependent': 15, 'dependentGloss': 'state'}, {'dep': 'case', 'governor': 19, 'governorGloss': 'jet', 'dependent': 16, 'dependentGloss': 'aboard'}, {'dep': 'det', 'governor': 19, 'governorGloss': 'jet', 'dependent': 17, 'dependentGloss': 'the'}, {'dep': 'amod', 'governor': 19, 'governorGloss': 'jet', 'dependent': 18, 'dependentGloss': 'private'}, {'dep': 'nmod:aboard', 'governor': 11, 'governorGloss': 'returning', 'dependent': 19, 'dependentGloss': 'jet'}], 'entitymentions': [{'docTokenBegin': 6, 'docTokenEnd': 7, 'tokenBegin': 6, 'tokenEnd': 7, 'text': 'first', 'characterOffsetBegin': 19, 'characterOffsetEnd': 24, 'ner': 'ORDINAL', 'normalizedNER': '1.0'}, {'docTokenBegin': 0, 'docTokenEnd': 1, 'tokenBegin': 0, 'tokenEnd': 1, 'text': 'he', 'characterOffsetBegin': 0, 'characterOffsetEnd': 2, 'ner': 'PERSON'}, {'docTokenBegin': 5, 'docTokenEnd': 6, 'tokenBegin': 5, 'tokenEnd': 6, 'text': 'his', 'characterOffsetBegin': 15, 'characterOffsetEnd': 18, 'ner': 'PERSON'}, {'docTokenBegin': 12, 'docTokenEnd': 13, 'tokenBegin': 12, 'tokenEnd': 13, 'text': 'his', 'characterOffsetBegin': 62, 'characterOffsetEnd': 65, 'ner': 'PERSON'}], 'tokens': [{'index': 1, 'word': 'he', 'originalText': 'he', 'lemma': 'he', 'characterOffsetBegin': 0, 'characterOffsetEnd': 2, 'pos': 'PRP', 'ner': 'O', 'speaker': 'PER0', 'before': '', 'after': ' '}, {'index': 2, 'word': \"'\", 'originalText': \"'\", 'lemma': \"'\", 'characterOffsetBegin': 3, 'characterOffsetEnd': 4, 'pos': \"''\", 'ner': 'O', 'speaker': 'PER0', 'before': ' ', 'after': ' '}, {'index': 3, 'word': 'll', 'originalText': 'll', 'lemma': 'll', 'characterOffsetBegin': 5, 'characterOffsetEnd': 7, 'pos': 'NN', 'ner': 'O', 'speaker': 'PER0', 'before': ' ', 'after': ' '}, {'index': 4, 'word': 'fly', 'originalText': 'fly', 'lemma': 'fly', 'characterOffsetBegin': 8, 'characterOffsetEnd': 11, 'pos': 'NN', 'ner': 'O', 'speaker': 'PER0', 'before': ' ', 'after': ' '}, {'index': 5, 'word': 'to', 'originalText': 'to', 'lemma': 'to', 'characterOffsetBegin': 12, 'characterOffsetEnd': 14, 'pos': 'TO', 'ner': 'O', 'speaker': 'PER0', 'before': ' ', 'after': ' '}, {'index': 6, 'word': 'his', 'originalText': 'his', 'lemma': 'he', 'characterOffsetBegin': 15, 'characterOffsetEnd': 18, 'pos': 'PRP$', 'ner': 'O', 'speaker': 'PER0', 'before': ' ', 'after': ' '}, {'index': 7, 'word': 'first', 'originalText': 'first', 'lemma': 'first', 'characterOffsetBegin': 19, 'characterOffsetEnd': 24, 'pos': 'JJ', 'ner': 'ORDINAL', 'normalizedNER': '1.0', 'speaker': 'PER0', 'before': ' ', 'after': ' '}, {'index': 8, 'word': 'public', 'originalText': 'public', 'lemma': 'public', 'characterOffsetBegin': 25, 'characterOffsetEnd': 31, 'pos': 'JJ', 'ner': 'O', 'speaker': 'PER0', 'before': ' ', 'after': ' '}, {'index': 9, 'word': 'appearance', 'originalText': 'appearance', 'lemma': 'appearance', 'characterOffsetBegin': 32, 'characterOffsetEnd': 42, 'pos': 'NN', 'ner': 'O', 'speaker': 'PER0', 'before': ' ', 'after': ' '}, {'index': 10, 'word': 'since', 'originalText': 'since', 'lemma': 'since', 'characterOffsetBegin': 43, 'characterOffsetEnd': 48, 'pos': 'IN', 'ner': 'O', 'speaker': 'PER0', 'before': ' ', 'after': ' '}, {'index': 11, 'word': 'returning', 'originalText': 'returning', 'lemma': 'return', 'characterOffsetBegin': 49, 'characterOffsetEnd': 58, 'pos': 'VBG', 'ner': 'O', 'speaker': 'PER0', 'before': ' ', 'after': ' '}, {'index': 12, 'word': 'to', 'originalText': 'to', 'lemma': 'to', 'characterOffsetBegin': 59, 'characterOffsetEnd': 61, 'pos': 'TO', 'ner': 'O', 'speaker': 'PER0', 'before': ' ', 'after': ' '}, {'index': 13, 'word': 'his', 'originalText': 'his', 'lemma': 'he', 'characterOffsetBegin': 62, 'characterOffsetEnd': 65, 'pos': 'PRP$', 'ner': 'O', 'speaker': 'PER0', 'before': ' ', 'after': ' '}, {'index': 14, 'word': 'home', 'originalText': 'home', 'lemma': 'home', 'characterOffsetBegin': 66, 'characterOffsetEnd': 70, 'pos': 'NN', 'ner': 'O', 'speaker': 'PER0', 'before': ' ', 'after': ' '}, {'index': 15, 'word': 'state', 'originalText': 'state', 'lemma': 'state', 'characterOffsetBegin': 71, 'characterOffsetEnd': 76, 'pos': 'NN', 'ner': 'O', 'speaker': 'PER0', 'before': ' ', 'after': ' '}, {'index': 16, 'word': 'aboard', 'originalText': 'aboard', 'lemma': 'aboard', 'characterOffsetBegin': 77, 'characterOffsetEnd': 83, 'pos': 'IN', 'ner': 'O', 'speaker': 'PER0', 'before': ' ', 'after': ' '}, {'index': 17, 'word': 'the', 'originalText': 'the', 'lemma': 'the', 'characterOffsetBegin': 84, 'characterOffsetEnd': 87, 'pos': 'DT', 'ner': 'O', 'speaker': 'PER0', 'before': ' ', 'after': ' \\t'}, {'index': 18, 'word': 'private', 'originalText': 'private', 'lemma': 'private', 'characterOffsetBegin': 89, 'characterOffsetEnd': 96, 'pos': 'JJ', 'ner': 'O', 'speaker': 'PER0', 'before': ' \\t', 'after': ' '}, {'index': 19, 'word': 'jet', 'originalText': 'jet', 'lemma': 'jet', 'characterOffsetBegin': 97, 'characterOffsetEnd': 100, 'pos': 'NN', 'ner': 'O', 'speaker': 'PER0', 'before': ' ', 'after': ''}]}\n"
     ]
    }
   ],
   "source": [
    "print(doc[\"sentences\"][0])"
   ]
  },
  {
   "cell_type": "code",
   "execution_count": 51,
   "metadata": {},
   "outputs": [
    {
     "name": "stdout",
     "output_type": "stream",
     "text": [
      "<class 'dict'>\n",
      "dict_keys(['5'])\n"
     ]
    }
   ],
   "source": [
    "print(type(doc[\"corefs\"]))\n",
    "print(doc[\"corefs\"].keys())"
   ]
  },
  {
   "cell_type": "code",
   "execution_count": 52,
   "metadata": {},
   "outputs": [
    {
     "name": "stdout",
     "output_type": "stream",
     "text": [
      "[{'id': 1, 'text': 'he', 'type': 'PRONOMINAL', 'number': 'SINGULAR', 'gender': 'MALE', 'animacy': 'ANIMATE', 'startIndex': 1, 'endIndex': 2, 'headIndex': 1, 'sentNum': 1, 'position': [1, 2], 'isRepresentativeMention': True}, {'id': 3, 'text': 'his', 'type': 'PRONOMINAL', 'number': 'SINGULAR', 'gender': 'MALE', 'animacy': 'ANIMATE', 'startIndex': 6, 'endIndex': 7, 'headIndex': 6, 'sentNum': 1, 'position': [1, 4], 'isRepresentativeMention': False}, {'id': 5, 'text': 'his', 'type': 'PRONOMINAL', 'number': 'SINGULAR', 'gender': 'MALE', 'animacy': 'ANIMATE', 'startIndex': 13, 'endIndex': 14, 'headIndex': 13, 'sentNum': 1, 'position': [1, 6], 'isRepresentativeMention': False}]\n"
     ]
    }
   ],
   "source": [
    "print(doc[\"corefs\"]['5'])"
   ]
  },
  {
   "cell_type": "code",
   "execution_count": 53,
   "metadata": {},
   "outputs": [
    {
     "ename": "KeyError",
     "evalue": "'11'",
     "output_type": "error",
     "traceback": [
      "\u001b[0;31m---------------------------------------------------------------------------\u001b[0m",
      "\u001b[0;31mKeyError\u001b[0m                                  Traceback (most recent call last)",
      "\u001b[0;32m<ipython-input-53-93e28583903d>\u001b[0m in \u001b[0;36m<module>\u001b[0;34m\u001b[0m\n\u001b[0;32m----> 1\u001b[0;31m \u001b[0mprint\u001b[0m\u001b[0;34m(\u001b[0m\u001b[0mdoc\u001b[0m\u001b[0;34m[\u001b[0m\u001b[0;34m\"corefs\"\u001b[0m\u001b[0;34m]\u001b[0m\u001b[0;34m[\u001b[0m\u001b[0;34m'11'\u001b[0m\u001b[0;34m]\u001b[0m\u001b[0;34m)\u001b[0m\u001b[0;34m\u001b[0m\u001b[0;34m\u001b[0m\u001b[0m\n\u001b[0m",
      "\u001b[0;31mKeyError\u001b[0m: '11'"
     ]
    }
   ],
   "source": [
    "print(doc[\"corefs\"]['11'])"
   ]
  }
 ],
 "metadata": {
  "kernelspec": {
   "display_name": "Python 3",
   "language": "python",
   "name": "python3"
  },
  "language_info": {
   "codemirror_mode": {
    "name": "ipython",
    "version": 3
   },
   "file_extension": ".py",
   "mimetype": "text/x-python",
   "name": "python",
   "nbconvert_exporter": "python",
   "pygments_lexer": "ipython3",
   "version": "3.6.8"
  }
 },
 "nbformat": 4,
 "nbformat_minor": 4
}
