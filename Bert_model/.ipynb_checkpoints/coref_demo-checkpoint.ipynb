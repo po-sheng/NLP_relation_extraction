{
 "cells": [
  {
   "cell_type": "code",
   "execution_count": 22,
   "metadata": {},
   "outputs": [],
   "source": [
    "from stanfordcorenlp import StanfordCoreNLP\n",
    "import json"
   ]
  },
  {
   "cell_type": "code",
   "execution_count": 23,
   "metadata": {},
   "outputs": [],
   "source": [
    "nlp = StanfordCoreNLP(\"http://140.109.19.190\", port = 9000, lang = \"en\")"
   ]
  },
  {
   "cell_type": "code",
   "execution_count": 24,
   "metadata": {},
   "outputs": [],
   "source": [
    "props = {'annotators': 'coref', 'outputFormat': 'json', 'pipelineLanguage': 'en'}"
   ]
  },
  {
   "cell_type": "code",
   "execution_count": 25,
   "metadata": {},
   "outputs": [],
   "source": [
    "text = \"Obama is the the president of US. Florida is a nice place. It is good. He lives in Florida. Trump is the current president. He owns Trump tower\""
   ]
  },
  {
   "cell_type": "code",
   "execution_count": 26,
   "metadata": {},
   "outputs": [],
   "source": [
    "doc = json.loads(nlp.annotate(text, properties=props))"
   ]
  },
  {
   "cell_type": "code",
   "execution_count": 27,
   "metadata": {},
   "outputs": [
    {
     "name": "stdout",
     "output_type": "stream",
     "text": [
      "<class 'dict'>\n",
      "dict_keys(['sentences', 'corefs'])\n"
     ]
    }
   ],
   "source": [
    "print(type(doc))\n",
    "print(doc.keys())"
   ]
  },
  {
   "cell_type": "code",
   "execution_count": 30,
   "metadata": {
    "collapsed": true,
    "jupyter": {
     "outputs_hidden": true
    }
   },
   "outputs": [
    {
     "name": "stdout",
     "output_type": "stream",
     "text": [
      "{'index': 0, 'basicDependencies': [{'dep': 'ROOT', 'governor': 0, 'governorGloss': 'ROOT', 'dependent': 5, 'dependentGloss': 'president'}, {'dep': 'nsubj', 'governor': 5, 'governorGloss': 'president', 'dependent': 1, 'dependentGloss': 'Obama'}, {'dep': 'cop', 'governor': 5, 'governorGloss': 'president', 'dependent': 2, 'dependentGloss': 'is'}, {'dep': 'det', 'governor': 5, 'governorGloss': 'president', 'dependent': 3, 'dependentGloss': 'the'}, {'dep': 'det', 'governor': 5, 'governorGloss': 'president', 'dependent': 4, 'dependentGloss': 'the'}, {'dep': 'case', 'governor': 7, 'governorGloss': 'US', 'dependent': 6, 'dependentGloss': 'of'}, {'dep': 'nmod', 'governor': 5, 'governorGloss': 'president', 'dependent': 7, 'dependentGloss': 'US'}, {'dep': 'punct', 'governor': 5, 'governorGloss': 'president', 'dependent': 8, 'dependentGloss': '.'}], 'enhancedDependencies': [{'dep': 'ROOT', 'governor': 0, 'governorGloss': 'ROOT', 'dependent': 5, 'dependentGloss': 'president'}, {'dep': 'nsubj', 'governor': 5, 'governorGloss': 'president', 'dependent': 1, 'dependentGloss': 'Obama'}, {'dep': 'cop', 'governor': 5, 'governorGloss': 'president', 'dependent': 2, 'dependentGloss': 'is'}, {'dep': 'det', 'governor': 5, 'governorGloss': 'president', 'dependent': 3, 'dependentGloss': 'the'}, {'dep': 'det', 'governor': 5, 'governorGloss': 'president', 'dependent': 4, 'dependentGloss': 'the'}, {'dep': 'case', 'governor': 7, 'governorGloss': 'US', 'dependent': 6, 'dependentGloss': 'of'}, {'dep': 'nmod:of', 'governor': 5, 'governorGloss': 'president', 'dependent': 7, 'dependentGloss': 'US'}, {'dep': 'punct', 'governor': 5, 'governorGloss': 'president', 'dependent': 8, 'dependentGloss': '.'}], 'enhancedPlusPlusDependencies': [{'dep': 'ROOT', 'governor': 0, 'governorGloss': 'ROOT', 'dependent': 5, 'dependentGloss': 'president'}, {'dep': 'nsubj', 'governor': 5, 'governorGloss': 'president', 'dependent': 1, 'dependentGloss': 'Obama'}, {'dep': 'cop', 'governor': 5, 'governorGloss': 'president', 'dependent': 2, 'dependentGloss': 'is'}, {'dep': 'det', 'governor': 5, 'governorGloss': 'president', 'dependent': 3, 'dependentGloss': 'the'}, {'dep': 'det', 'governor': 5, 'governorGloss': 'president', 'dependent': 4, 'dependentGloss': 'the'}, {'dep': 'case', 'governor': 7, 'governorGloss': 'US', 'dependent': 6, 'dependentGloss': 'of'}, {'dep': 'nmod:of', 'governor': 5, 'governorGloss': 'president', 'dependent': 7, 'dependentGloss': 'US'}, {'dep': 'punct', 'governor': 5, 'governorGloss': 'president', 'dependent': 8, 'dependentGloss': '.'}], 'entitymentions': [{'docTokenBegin': 0, 'docTokenEnd': 1, 'tokenBegin': 0, 'tokenEnd': 1, 'text': 'Obama', 'characterOffsetBegin': 0, 'characterOffsetEnd': 5, 'ner': 'PERSON'}, {'docTokenBegin': 4, 'docTokenEnd': 5, 'tokenBegin': 4, 'tokenEnd': 5, 'text': 'president', 'characterOffsetBegin': 17, 'characterOffsetEnd': 26, 'ner': 'TITLE'}, {'docTokenBegin': 6, 'docTokenEnd': 7, 'tokenBegin': 6, 'tokenEnd': 7, 'text': 'US', 'characterOffsetBegin': 30, 'characterOffsetEnd': 32, 'ner': 'COUNTRY'}], 'tokens': [{'index': 1, 'word': 'Obama', 'originalText': 'Obama', 'lemma': 'Obama', 'characterOffsetBegin': 0, 'characterOffsetEnd': 5, 'pos': 'NNP', 'ner': 'PERSON', 'speaker': 'PER0', 'before': '', 'after': ' '}, {'index': 2, 'word': 'is', 'originalText': 'is', 'lemma': 'be', 'characterOffsetBegin': 6, 'characterOffsetEnd': 8, 'pos': 'VBZ', 'ner': 'O', 'speaker': 'PER0', 'before': ' ', 'after': ' '}, {'index': 3, 'word': 'the', 'originalText': 'the', 'lemma': 'the', 'characterOffsetBegin': 9, 'characterOffsetEnd': 12, 'pos': 'DT', 'ner': 'O', 'speaker': 'PER0', 'before': ' ', 'after': ' '}, {'index': 4, 'word': 'the', 'originalText': 'the', 'lemma': 'the', 'characterOffsetBegin': 13, 'characterOffsetEnd': 16, 'pos': 'DT', 'ner': 'O', 'speaker': 'PER0', 'before': ' ', 'after': ' '}, {'index': 5, 'word': 'president', 'originalText': 'president', 'lemma': 'president', 'characterOffsetBegin': 17, 'characterOffsetEnd': 26, 'pos': 'NN', 'ner': 'TITLE', 'speaker': 'PER0', 'before': ' ', 'after': ' '}, {'index': 6, 'word': 'of', 'originalText': 'of', 'lemma': 'of', 'characterOffsetBegin': 27, 'characterOffsetEnd': 29, 'pos': 'IN', 'ner': 'O', 'speaker': 'PER0', 'before': ' ', 'after': ' '}, {'index': 7, 'word': 'US', 'originalText': 'US', 'lemma': 'US', 'characterOffsetBegin': 30, 'characterOffsetEnd': 32, 'pos': 'NNP', 'ner': 'COUNTRY', 'speaker': 'PER0', 'before': ' ', 'after': ''}, {'index': 8, 'word': '.', 'originalText': '.', 'lemma': '.', 'characterOffsetBegin': 32, 'characterOffsetEnd': 33, 'pos': '.', 'ner': 'O', 'speaker': 'PER0', 'before': '', 'after': ' '}]}\n"
     ]
    }
   ],
   "source": [
    "print(doc[\"sentences\"][0])"
   ]
  },
  {
   "cell_type": "code",
   "execution_count": 41,
   "metadata": {},
   "outputs": [
    {
     "name": "stdout",
     "output_type": "stream",
     "text": [
      "<class 'dict'>\n",
      "dict_keys(['5', '11'])\n"
     ]
    }
   ],
   "source": [
    "print(type(doc[\"corefs\"]))\n",
    "print(doc[\"corefs\"].keys())"
   ]
  },
  {
   "cell_type": "code",
   "execution_count": 43,
   "metadata": {},
   "outputs": [
    {
     "name": "stdout",
     "output_type": "stream",
     "text": [
      "<class 'list'>\n"
     ]
    }
   ],
   "source": [
    "print(doc[\"corefs\"]['5'])"
   ]
  },
  {
   "cell_type": "code",
   "execution_count": null,
   "metadata": {},
   "outputs": [],
   "source": [
    "print(doc[\"corefs\"]['11'])"
   ]
  }
 ],
 "metadata": {
  "kernelspec": {
   "display_name": "Python 3",
   "language": "python",
   "name": "python3"
  },
  "language_info": {
   "codemirror_mode": {
    "name": "ipython",
    "version": 3
   },
   "file_extension": ".py",
   "mimetype": "text/x-python",
   "name": "python",
   "nbconvert_exporter": "python",
   "pygments_lexer": "ipython3",
   "version": "3.6.8"
  }
 },
 "nbformat": 4,
 "nbformat_minor": 4
}
