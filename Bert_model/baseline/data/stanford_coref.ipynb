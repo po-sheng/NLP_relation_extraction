{
 "cells": [
  {
   "cell_type": "code",
   "execution_count": 1,
   "metadata": {},
   "outputs": [
    {
     "ename": "SyntaxError",
     "evalue": "invalid syntax (<ipython-input-1-5b4ad63850b4>, line 11)",
     "output_type": "error",
     "traceback": [
      "\u001b[0;36m  File \u001b[0;32m\"<ipython-input-1-5b4ad63850b4>\"\u001b[0;36m, line \u001b[0;32m11\u001b[0m\n\u001b[0;31m    public class CorefExample {\u001b[0m\n\u001b[0m               ^\u001b[0m\n\u001b[0;31mSyntaxError\u001b[0m\u001b[0;31m:\u001b[0m invalid syntax\n"
     ]
    }
   ],
   "source": [
    "import java.util.Properties;\n",
    "\n",
    "import edu.stanford.nlp.coref.CorefCoreAnnotations;\n",
    "import edu.stanford.nlp.coref.data.CorefChain;\n",
    "import edu.stanford.nlp.coref.data.Mention;\n",
    "import edu.stanford.nlp.ling.CoreAnnotations;\n",
    "import edu.stanford.nlp.pipeline.Annotation;\n",
    "import edu.stanford.nlp.pipeline.StanfordCoreNLP;\n",
    "import edu.stanford.nlp.util.CoreMap;\n",
    "\n",
    "class CorefExample :\n",
    "  public static void main(String[] args) throws Exception {\n",
    "    Annotation document = new Annotation(\"Barack Obama was born in Hawaii.  He is the president. Obama was elected in 2008.\");\n",
    "    Properties props = new Properties();\n",
    "    props.setProperty(\"annotators\", \"tokenize,ssplit,pos,lemma,ner,parse,coref\");\n",
    "    StanfordCoreNLP pipeline = new StanfordCoreNLP(props);\n",
    "    pipeline.annotate(document);\n",
    "    System.out.println(\"---\");\n",
    "    System.out.println(\"coref chains\");\n",
    "    for (CorefChain cc : document.get(CorefCoreAnnotations.CorefChainAnnotation.class).values()) {\n",
    "      System.out.println(\"\\t\" + cc);\n",
    "    }\n",
    "    for (CoreMap sentence : document.get(CoreAnnotations.SentencesAnnotation.class)) {\n",
    "      System.out.println(\"---\");\n",
    "      System.out.println(\"mentions\");\n",
    "      for (Mention m : sentence.get(CorefCoreAnnotations.CorefMentionsAnnotation.class)) {\n",
    "        System.out.println(\"\\t\" + m);\n",
    "       }\n",
    "    }\n",
    "  }"
   ]
  },
  {
   "cell_type": "code",
   "execution_count": null,
   "metadata": {},
   "outputs": [],
   "source": [
    "if __init__ == \"main\":\n",
    "    "
   ]
  }
 ],
 "metadata": {
  "kernelspec": {
   "display_name": "Python 3",
   "language": "python",
   "name": "python3"
  },
  "language_info": {
   "codemirror_mode": {
    "name": "ipython",
    "version": 3
   },
   "file_extension": ".py",
   "mimetype": "text/x-python",
   "name": "python",
   "nbconvert_exporter": "python",
   "pygments_lexer": "ipython3",
   "version": "3.6.8"
  }
 },
 "nbformat": 4,
 "nbformat_minor": 4
}
