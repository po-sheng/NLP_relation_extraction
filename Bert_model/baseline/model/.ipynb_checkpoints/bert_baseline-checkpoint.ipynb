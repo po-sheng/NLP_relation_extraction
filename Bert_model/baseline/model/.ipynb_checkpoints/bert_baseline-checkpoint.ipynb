{
 "cells": [
  {
   "cell_type": "code",
   "execution_count": 1,
   "metadata": {},
   "outputs": [
    {
     "name": "stderr",
     "output_type": "stream",
     "text": [
      "/usr/local/lib/python3.6/dist-packages/sklearn/utils/linear_assignment_.py:21: DeprecationWarning: The linear_assignment_ module is deprecated in 0.21 and will be removed from 0.23. Use scipy.optimize.linear_sum_assignment instead.\n",
      "  DeprecationWarning)\n"
     ]
    }
   ],
   "source": [
    "import sys\n",
    "sys.path.append(\"/work/multi_doc_analyzer\")\n",
    "sys.path.append(\"/work/relation_extraction/Bert_model/baseline/data/\")\n",
    "\n",
    "import torch as T\n",
    "import numpy as np\n",
    "import torch.nn as nn\n",
    "import torch.optim as optim\n",
    "import torch.cuda\n",
    "from allennlp.nn import util as nn_util\n",
    "from multi_doc_analyzer.structure.structure import *\n",
    "from multi_doc_analyzer.tokenization.tokenizer import MDATokenizer\n",
    "from tqdm import tqdm\n",
    "\n",
    "from allennlp.data.dataset_readers import DatasetReader\n",
    "from allennlp.data.tokenizers import Token, Tokenizer, WordTokenizer\n",
    "from allennlp.data.token_indexers import TokenIndexer\n",
    "\n",
    "from allennlp.data.instance import Instance\n",
    "from allennlp.data.fields import TextField, LabelField, ArrayField\n",
    "\n",
    "from ace05_set_reader import ACE05Reader\n",
    "\n",
    "from allennlp.data.vocabulary import Vocabulary\n",
    "from allennlp.data.iterators import BucketIterator, DataIterator, BasicIterator\n",
    "from allennlp.nn.util import get_text_field_mask\n",
    "from allennlp.models import Model\n",
    "from allennlp.modules.text_field_embedders import TextFieldEmbedder\n",
    "import random\n",
    "\n",
    "from allennlp.data.token_indexers import PretrainedBertIndexer\n",
    "from allennlp.modules.text_field_embedders import BasicTextFieldEmbedder\n",
    "from allennlp.modules.token_embedders.bert_token_embedder import PretrainedBertEmbedder\n",
    "\n",
    "from sklearn.metrics import precision_recall_fscore_support as prs \n",
    "from sklearn.metrics import confusion_matrix\n",
    "import matplotlib.pyplot as plt\n",
    "import csv"
   ]
  },
  {
   "cell_type": "code",
   "execution_count": 2,
   "metadata": {},
   "outputs": [],
   "source": [
    "sys.path.append(\"/work/multi-relation-extraction/\")\n",
    "from evaluate import compute_macro_PRF"
   ]
  },
  {
   "cell_type": "code",
   "execution_count": 3,
   "metadata": {},
   "outputs": [],
   "source": [
    "train_path = \"/work/LDC2006T06/dataset/train/\"\n",
    "test_path = \"/work/LDC2006T06/dataset/test/\"\n",
    "model_folder = \"/work/model_checkpoint/bert_model_checkpoint/baseline\"\n",
    "output_path = \"/work/relation_extraction/Bert_model/baseline/analysis/\""
   ]
  },
  {
   "cell_type": "code",
   "execution_count": 4,
   "metadata": {},
   "outputs": [],
   "source": [
    "class Config(dict):\n",
    "    def __init__(self, **kwargs):\n",
    "        super().__init__(**kwargs)\n",
    "        for k, v in kwargs.items():\n",
    "            setattr(self, k, v)\n",
    "    \n",
    "    def set(self, key, val):\n",
    "        self[key] = val\n",
    "        setattr(self, key, val)\n",
    "        \n",
    "config = Config(\n",
    "    seed=1,\n",
    "    batch_size=64,\n",
    "    lr=3e-4,                # learning rate\n",
    "    epochs=25,\n",
    "    hidden_sz=128,\n",
    "    arg_sz=20,\n",
    "    max_seq_len=200\n",
    ")"
   ]
  },
  {
   "cell_type": "code",
   "execution_count": 5,
   "metadata": {},
   "outputs": [
    {
     "data": {
      "text/plain": [
       "True"
      ]
     },
     "execution_count": 5,
     "metadata": {},
     "output_type": "execute_result"
    }
   ],
   "source": [
    "USE_GPU = T.cuda.is_available()\n",
    "USE_GPU"
   ]
  },
  {
   "cell_type": "code",
   "execution_count": 6,
   "metadata": {},
   "outputs": [
    {
     "data": {
      "text/plain": [
       "<torch._C.Generator at 0x7ff2fdfbb830>"
      ]
     },
     "execution_count": 6,
     "metadata": {},
     "output_type": "execute_result"
    }
   ],
   "source": [
    "# set seed for both CPU and CUDA\n",
    "T.manual_seed(config.seed)"
   ]
  },
  {
   "cell_type": "code",
   "execution_count": 7,
   "metadata": {},
   "outputs": [],
   "source": [
    "# from ace05_set_reader import ACE05Reader\n",
    "# train_path = \"/work/LDC2006T06/dataset/train/\"\n",
    "# reader = ACE05Reader(lang='en')\n",
    "# doc_dicts = reader.read(train_path)\n",
    "# tokenizer = MDATokenizer('bert-en')\n",
    "# for doc in doc_dicts.values():\n",
    "#     tokenizer.annotate_document(doc)\n",
    "#     for s in doc.sentences: \n",
    "        "
   ]
  },
  {
   "cell_type": "code",
   "execution_count": 8,
   "metadata": {},
   "outputs": [],
   "source": [
    "e_type2idx = {'X':0, 'O': 1, 'PER': 2, 'ORG': 3, 'LOC': 4, 'GPE': 5, 'FAC': 6, 'VEH': 7, 'WEA': 8}\n",
    "\n",
    "r_label2idx = {'PHYS-lr': 1, 'PART-WHOLE-lr': 2, 'PER-SOC-lr': 3, 'ORG-AFF-lr': 4, 'ART-lr': 5, 'GEN-AFF-lr': 6,\n",
    "               'PHYS-rl': 7, 'PART-WHOLE-rl': 8, 'PER-SOC-rl': 9, 'ORG-AFF-rl': 10, 'ART-rl': 11, 'GEN-AFF-rl': 12,\n",
    "               'NONE': 0}\n",
    "\n",
    "# r_label2idx = {'PHYS': 1, 'PART-WHOLE': 2, 'PER-SOC': 3, 'ORG-AFF': 4, 'ART': 5, 'GEN-AFF': 6, 'NONE': 0}\n",
    "\n",
    "r_idx2label = {v: k for k, v in r_label2idx.items()}\n",
    "\n",
    "class RelationDatasetReader(DatasetReader):\n",
    "    \"\"\"\n",
    "    Reads Structure object formatted datasets files, and creates AllenNLP instances.\n",
    "    \"\"\"\n",
    "    def __init__(self, tokenizer: Tokenizer=None, token_indexers: Dict[str, TokenIndexer]=None, \n",
    "                 MAX_WORDPIECES: int=config.max_seq_len, \n",
    "                 is_training = False, ace05_reader: ACE05Reader=None):\n",
    "        # make sure results may be reproduced when sampling...\n",
    "        super().__init__(lazy=False)\n",
    "        random.seed(0)\n",
    "        self.is_training = is_training\n",
    "        self.ace05_reader = ace05_reader\n",
    "        \n",
    "        # NOTE AllenNLP automatically adds [CLS] and [SEP] word peices in the begining and end of the context,\n",
    "        # therefore we need to subtract 2\n",
    "        self.MAX_WORDPIECES = MAX_WORDPIECES - 2\n",
    "        \n",
    "        self.tokenizer = tokenizer or WordTokenizer()\n",
    "        \n",
    "        # BERT specific init\n",
    "        self._token_indexers = token_indexers\n",
    "\n",
    "    def text_to_instance(self, sentence: Sentence) -> Instance:\n",
    "#         sentence_tokens = [Token(x) for x in self.tokenizer(sentence.text)]\n",
    "#         sentence_tokens = [Token(i) for t in sentence.text for i in self.tokenizer(t)]\n",
    "#         sentence_tokens = [Token(text=t) for t in sentence.text]\n",
    "        \n",
    "#         sentence_tokens = []\n",
    "#         for t in sentence.tokens:\n",
    "#             sentence_tokens.append(Token(text=t.text))\n",
    "\n",
    "#         for t in sentence.text:\n",
    "#             td = self.tokenizer(t)\n",
    "#             assert len(td) == 1 or len(td) == 0\n",
    "#             if td:\n",
    "#                 sentence_tokens.append(Token(text=td[0]))\n",
    "#             else:\n",
    "#                 sentence_tokens.append(Token(text='[MASK]'))\n",
    "\n",
    "#         sentence_field = TextField(sentence_tokens, self._token_indexers)\n",
    "#         fields = {\"tokens\": sentence_field}\n",
    "\n",
    "#         char_list_field = ListField([t for t in sentence.text])\n",
    "#         fields['char_list'] = char_list_field\n",
    "\n",
    "        e_tuple_check_dicts = {} # {(train_arg_l.id, train_arg_r.id):true_label, ...}\n",
    "        if self.is_training: \n",
    "            for r in sentence.relation_mentions:\n",
    "                train_arg_l, train_arg_r, true_label = r.get_left_right_args()\n",
    "                e_tuple_check_dicts[(train_arg_l.id, train_arg_r.id)] = true_label\n",
    "\n",
    "        # construct pair entities\n",
    "        for arg_left_idx in range(len(sentence.entity_mentions)-1):\n",
    "            for arg_right_idx in range(arg_left_idx+1, len(sentence.entity_mentions)):\n",
    "                field = {}\n",
    "                sentence_tokens = []\n",
    "\n",
    "                for t in sentence.tokens:\n",
    "                    sentence_tokens.append(Token(text=t.text))\n",
    "                \n",
    "                sentence_field = TextField(sentence_tokens, self._token_indexers)\n",
    "                fields = {\"tokens\": sentence_field}\n",
    "                    \n",
    "                arg_left = sentence.entity_mentions[arg_left_idx]\n",
    "                arg_right = sentence.entity_mentions[arg_right_idx]\n",
    "                arg_vec = T.zeros(self.MAX_WORDPIECES + 2, dtype=T.long)\n",
    "                arg_vec[:len(sentence_tokens)+2] = 1\n",
    "\n",
    "                # +1 because the first token is [CLS]\n",
    "                arg_vec[arg_left.token_b+1:arg_left.token_e+1] = e_type2idx[arg_left.type]\n",
    "                arg_vec[arg_right.token_b+1:arg_right.token_e+1] = e_type2idx[arg_right.type]\n",
    "                fields[\"arg_idx\"] = ArrayField(arg_vec)\n",
    "\n",
    "\n",
    "#                 fields[\"arg_left\"] = SpanField(arg_left.char_b, arg_left.char_e, char_list_field)\n",
    "#                 fields[\"arg_right\"] = SpanField(arg_right.char_b, arg_right.char_e, char_list_field)\n",
    "                if self.is_training:\n",
    "                    if (arg_left.id, arg_right.id) in e_tuple_check_dicts.keys():\n",
    "                        fields[\"label\"] = LabelField(r_label2idx[e_tuple_check_dicts[(arg_left.id, arg_right.id)]], skip_indexing=True)\n",
    "                    else:\n",
    "                        fields[\"label\"] = LabelField(r_label2idx['NONE'], skip_indexing=True)\n",
    "                yield Instance(fields)\n",
    "    \n",
    "    def _read(self, file_path: str)->Iterator: \n",
    "        doc_dicts = self.ace05_reader.read(file_path)\n",
    "        tokenizer = MDATokenizer('bert-en')\n",
    "        for doc in doc_dicts.values():\n",
    "            tokenizer.annotate_document(doc)\n",
    "            for s in doc.sentences: \n",
    "                if len(s.tokens) <= config.max_seq_len:\n",
    "                    for instance in self.text_to_instance(s):\n",
    "                        yield instance"
   ]
  },
  {
   "cell_type": "code",
   "execution_count": 9,
   "metadata": {},
   "outputs": [],
   "source": [
    "# ace05_reader = ACE05Reader(lang='en')\n",
    "\n",
    "# token_indexer = PretrainedBertIndexer(\n",
    "#     pretrained_model=\"bert-base-uncased\",\n",
    "# #         max_pieces=config.max_seq_len,\n",
    "# #         do_lowercase=False               # for cased condition\n",
    "# )\n",
    "\n",
    "# # AllenNLP DatasetReader\n",
    "# reader = RelationDatasetReader(\n",
    "#     is_training=True, \n",
    "#     ace05_reader=ace05_reader, \n",
    "#     tokenizer=lambda s: token_indexer.wordpiece_tokenizer(s),\n",
    "#     token_indexers={\"tokens\": token_indexer}\n",
    "# )\n",
    "\n",
    "# train_ds = reader.read(train_path)"
   ]
  },
  {
   "cell_type": "code",
   "execution_count": 10,
   "metadata": {},
   "outputs": [],
   "source": [
    "class BERT(Model):\n",
    "    def __init__(self, word_embeddings: TextFieldEmbedder,\n",
    "                out_sz: int=len(r_label2idx)):\n",
    "        super().__init__(vocab)\n",
    "        self.word_embeddings = word_embeddings\n",
    "        self._entity_embeddings = T.nn.Embedding(num_embeddings=len(e_type2idx), embedding_dim=config.arg_sz, padding_idx=0)\n",
    "        self.gru = T.nn.GRU(word_embeddings.get_output_dim()+config.arg_sz, config.hidden_sz, batch_first=True)\n",
    "        self.projection = nn.Linear(config.hidden_sz, out_sz)\n",
    "        self.loss = nn.CrossEntropyLoss()\n",
    "        \n",
    "    def forward(self, tokens: Dict[str, T.tensor], arg_idx: T.tensor, label: T.tensor = None) -> Dict[str, T.tensor]:\n",
    "        mask = get_text_field_mask(tokens)\n",
    "        \n",
    "        embeddings = self.word_embeddings(tokens)\n",
    "        pad_len = embeddings.shape[-2]\n",
    "\n",
    "        arg_idx = arg_idx[:,:pad_len]\n",
    "        arg_idx = arg_idx.type(T.long)\n",
    "#         print(arg_idx)\n",
    "        arg_emb = self._entity_embeddings(arg_idx)\n",
    "#         print(arg_emb)\n",
    "        concat = T.cat((embeddings, arg_emb), -1)\n",
    "        ot, ht = self.gru(concat, None) # revise this \"None\"\n",
    "        ot = ot[:,-1,:]    \n",
    "        class_logits = self.projection(ot)\n",
    "#         print(vars(label))\n",
    "        output = {\"class_logits\": class_logits}\n",
    "        output[\"loss\"] = self.loss(class_logits, label)\n",
    "\n",
    "        return output"
   ]
  },
  {
   "cell_type": "code",
   "execution_count": 11,
   "metadata": {},
   "outputs": [],
   "source": [
    "from scipy.special import expit # the sigmoid function\n",
    "def tonp(tsr): return tsr.detach().cpu().numpy()"
   ]
  },
  {
   "cell_type": "code",
   "execution_count": 12,
   "metadata": {},
   "outputs": [],
   "source": [
    "# Predict\n",
    "class Predictor:\n",
    "    def __init__(self, model: Model, iterator: DataIterator,\n",
    "                 cuda_device: int=-1) -> None:\n",
    "        self.model = model\n",
    "        self.iterator = iterator\n",
    "        self.cuda_device = cuda_device\n",
    "        \n",
    "    def _extract_data(self, batch) -> np.ndarray:\n",
    "        out_dict = self.model(**batch)\n",
    "        return expit(tonp(out_dict[\"class_logits\"]))\n",
    "    \n",
    "    def predict(self, ds: Iterable[Instance]) -> np.ndarray:\n",
    "        pred_generator = self.iterator(ds, num_epochs=1, shuffle=False)\n",
    "        self.model.eval()\n",
    "        pred_generator_tqdm = tqdm(pred_generator, total=self.iterator.get_num_batches(ds))\n",
    "        preds = []\n",
    "        with T.no_grad():\n",
    "            for batch in pred_generator_tqdm:\n",
    "                batch = nn_util.move_to_device(batch, self.cuda_device)\n",
    "                preds.append(self._extract_data(batch))\n",
    "        return np.concatenate(preds, axis=0)"
   ]
  },
  {
   "cell_type": "code",
   "execution_count": 13,
   "metadata": {},
   "outputs": [],
   "source": [
    "def plot_comfusion_matrix(label_classes, predict_classes, out_folder, file_name):\n",
    "    label_types = list(r_idx2label.values())\n",
    "\n",
    "    cm = confusion_matrix(label_classes, predict_classes, label_types)\n",
    "    print(cm)\n",
    "    fig = plt.figure()\n",
    "    ax = fig.add_subplot(111)\n",
    "    cax = ax.matshow(cm)\n",
    "    for (i, j), z in np.ndenumerate(cm):\n",
    "        ax.text(j, i, '{:0.0f}'.format(z), ha='center', va='center', color='white')\n",
    "    fig.colorbar(cax)\n",
    "    ax.set_xticklabels([''] + label_types)\n",
    "    ax.set_yticklabels([''] + label_types)\n",
    "    plt.xlabel('Predicted')\n",
    "    plt.ylabel('True')\n",
    "\n",
    "    plt.savefig(out_folder + 'confusion_matrix_' + file_name + '.png')\n",
    "    plt.show()\n",
    "\n",
    "    pre, recall, f1, sup = prs(label_classes, predict_classes, average='macro')\n",
    "    \n",
    "    print(\"Accuracy:\", sum(cm[i][i] for i in range(len(cm))) / len(label_classes))\n",
    "    print(\"Precision:\", pre)\n",
    "    print(\"Recall:\", recall)\n",
    "    print(\"F1 score:\", f1)"
   ]
  },
  {
   "cell_type": "code",
   "execution_count": 14,
   "metadata": {},
   "outputs": [],
   "source": [
    "def err_analyze(ds, true, pred, opt):\n",
    "    \n",
    "    # classify different kinds of error\n",
    "    detail = [[[] for j in range(len(r_label2idx))] for i in range(len(r_label2idx))]\n",
    "    for i in range(len(ds)):\n",
    "         if true[i] != pred[i]:\n",
    "            detail[r_label2idx[true[i]]][r_label2idx[pred[i]]].append(i)\n",
    "    \n",
    "    # print into a csv file\n",
    "    with open(output_path + \"error_detail_\" + opt + \".csv\", \"w\", newline='') as f:\n",
    "        writer = csv.writer(f)\n",
    "        writer.writerow([\"Sentence\", \"Two_Entity\", \"Predict\", \"Label\", \"idx\"])\n",
    "        for j in range(len(detail)):\n",
    "            for k in range(len(detail)):\n",
    "                with_element = 0\n",
    "                if k == j:\n",
    "                    continue\n",
    "                for i in detail[j][k]:\n",
    "                    with_element = 1\n",
    "                    ent1 = []\n",
    "                    ent2 = []\n",
    "                    seq = 0\n",
    "                    prev = 0\n",
    "                    for g in range(len(vars(ds[i].fields['arg_idx'])['array'])):\n",
    "                        if int(vars(ds[i].fields['arg_idx'])['array'][g]) != 1 and int(vars(ds[i].fields['arg_idx'])['array'][g]) != 0:\n",
    "                            if ent1 == [] or (seq == 1 and prev == vars(ds[i].fields['arg_idx'])['array'][g]):\n",
    "                                prev = vars(ds[i].fields['arg_idx'])['array'][g]\n",
    "                                seq = 1\n",
    "                                ent1.append(vars(ds[i].fields['tokens'])['tokens'][g-1])\n",
    "                            else:\n",
    "                                seq = 2\n",
    "                                ent2.append(vars(ds[i].fields['tokens'])['tokens'][g-1])\n",
    "                        else: \n",
    "                            seq = 0\n",
    "    \n",
    "                    tostr = lambda a: [str(a[i]) for i in range(len(a))] \n",
    "                    writer.writerow([\" \".join(tostr(vars(ds[i].fields['tokens'])['tokens'])), [ent1, ent2], pred[i], true[i], i])\n",
    "                if with_element == 1:\n",
    "                    writer.writerow(\"\")"
   ]
  },
  {
   "cell_type": "code",
   "execution_count": 15,
   "metadata": {},
   "outputs": [
    {
     "name": "stderr",
     "output_type": "stream",
     "text": [
      "0it [00:00, ?it/s]\n",
      "  0%|          | 0/351 [00:00<?, ?it/s]\u001b[A\n",
      "  4%|▍         | 14/351 [00:00<00:02, 136.06it/s]\u001b[A\n",
      "  9%|▉         | 33/351 [00:00<00:02, 146.53it/s]\u001b[A\n",
      " 13%|█▎        | 47/351 [00:00<00:02, 142.96it/s]\u001b[A\n",
      " 16%|█▌        | 57/351 [00:00<00:04, 59.57it/s] \u001b[A\n",
      " 23%|██▎       | 80/351 [00:00<00:03, 75.83it/s]\u001b[A\n",
      " 27%|██▋       | 95/351 [00:00<00:02, 87.68it/s]\u001b[A\n",
      " 31%|███       | 108/351 [00:01<00:02, 95.81it/s]\u001b[A\n",
      " 35%|███▌      | 124/351 [00:01<00:02, 105.47it/s]\u001b[A\n",
      " 39%|███▉      | 138/351 [00:01<00:01, 112.42it/s]\u001b[A\n",
      " 46%|████▌     | 161/351 [00:01<00:01, 132.04it/s]\u001b[A\n",
      " 50%|█████     | 177/351 [00:01<00:01, 133.69it/s]\u001b[A\n",
      " 56%|█████▌    | 196/351 [00:01<00:01, 146.68it/s]\u001b[A\n",
      " 61%|██████    | 214/351 [00:01<00:00, 155.17it/s]\u001b[A\n",
      " 66%|██████▌   | 231/351 [00:01<00:00, 138.26it/s]\u001b[A\n",
      " 71%|███████   | 248/351 [00:01<00:00, 138.67it/s]\u001b[A\n",
      " 75%|███████▍  | 263/351 [00:02<00:00, 136.31it/s]\u001b[A\n",
      " 82%|████████▏ | 287/351 [00:02<00:00, 155.86it/s]\u001b[A\n",
      " 87%|████████▋ | 304/351 [00:02<00:00, 145.79it/s]\u001b[A\n",
      " 91%|█████████ | 320/351 [00:02<00:00, 144.76it/s]\u001b[A\n",
      " 96%|█████████▌| 336/351 [00:02<00:00, 130.27it/s]\u001b[A\n",
      "100%|█████████▉| 350/351 [00:03<00:00, 56.73it/s] \u001b[A\n",
      "2742it [00:22,  2.58s/it][00:03<00:00, 111.35it/s]\u001b[A"
     ]
    },
    {
     "name": "stdout",
     "output_type": "stream",
     "text": [
      "ORG-AFF\n",
      "FBI\n",
      "FBI\n",
      "error! relation argument positions error!\n",
      "ORG-AFF\n",
      "Department\n",
      "Department\n",
      "error! relation argument positions error!\n",
      "ORG-AFF\n",
      "CIA\n",
      "CIA\n",
      "error! relation argument positions error!\n"
     ]
    },
    {
     "name": "stderr",
     "output_type": "stream",
     "text": [
      "67082it [00:42, 1565.24it/s]\n"
     ]
    },
    {
     "name": "stdout",
     "output_type": "stream",
     "text": [
      "67082\n"
     ]
    }
   ],
   "source": [
    "\n",
    "if __name__ == '__main__':\n",
    "\n",
    "    ace05_reader = ACE05Reader(lang='en')\n",
    "    \n",
    "    token_indexer = PretrainedBertIndexer(\n",
    "        pretrained_model=\"bert-base-uncased\",\n",
    "#         max_pieces=config.max_seq_len,\n",
    "#         do_lowercase=False               # for cased condition\n",
    "    )\n",
    " \n",
    "\t# AllenNLP DatasetReader\n",
    "    reader = RelationDatasetReader(\n",
    "        is_training=True, \n",
    "        ace05_reader=ace05_reader, \n",
    "        tokenizer=lambda s: token_indexer.wordpiece_tokenizer(s),\n",
    "        token_indexers={\"tokens\": token_indexer}\n",
    "    )\n",
    "\n",
    "    train_ds = reader.read(train_path)\n",
    "    print(len(train_ds))\n",
    "#     for e in range(20):\n",
    "#         print(len(vars(train_ds[e].fields['tokens'])['tokens']))\n",
    "#         print(vars(train_ds[e].fields['tokens']))\n",
    "#         print(type(vars(train_ds[0].fields['arg_idx'])['array'][0]))\n",
    "#         print(vars(train_ds[e].fields['arg_idx']))\n",
    "#         print(vars(train_ds[e].fields['label']))\n",
    "    \n",
    "    vocab = Vocabulary()\n",
    "    iterator = BucketIterator(batch_size=config.batch_size, sorting_keys=[(\"tokens\", \"num_tokens\")])\n",
    "    iterator.index_with(vocab)\n",
    "\n",
    "    bert_embedder = PretrainedBertEmbedder(\n",
    "        pretrained_model=\"bert-base-uncased\",\n",
    "        top_layer_only=True, # conserve memory   \n",
    "    )\n",
    "    word_embeddings: TextFieldEmbedder = BasicTextFieldEmbedder({\"tokens\": bert_embedder},\n",
    "                                                                # we'll be ignoring masks so we'll need to set this to True\n",
    "                                                               allow_unmatched_keys = True)\n",
    "    model = BERT(word_embeddings)\n",
    "    if USE_GPU:\n",
    "        model.cuda()\n",
    "\n",
    "    optimizer = optim.Adam(model.parameters(), lr=config.lr)"
   ]
  },
  {
   "cell_type": "code",
   "execution_count": 16,
   "metadata": {},
   "outputs": [],
   "source": [
    "    # training\n",
    "    from allennlp.training.trainer import Trainer\n",
    "\n",
    "    trainer = Trainer(\n",
    "        model=model,\n",
    "        optimizer=optimizer,\n",
    "        iterator=iterator,\n",
    "        train_dataset=train_ds,\n",
    "        cuda_device=0 if USE_GPU else -1,\n",
    "        num_epochs=config.epochs,\n",
    "    )"
   ]
  },
  {
   "cell_type": "code",
   "execution_count": 17,
   "metadata": {},
   "outputs": [
    {
     "name": "stderr",
     "output_type": "stream",
     "text": [
      "loss: 0.3037 ||: 100%|██████████| 1049/1049 [02:10<00:00,  8.04it/s]\n",
      "loss: 0.2576 ||: 100%|██████████| 1049/1049 [01:56<00:00, 13.17it/s]\n",
      "loss: 0.2040 ||: 100%|██████████| 1049/1049 [02:31<00:00,  4.82it/s]\n",
      "loss: 0.1452 ||: 100%|██████████| 1049/1049 [01:59<00:00,  9.76it/s]\n",
      "loss: 0.1178 ||: 100%|██████████| 1049/1049 [01:51<00:00,  8.04it/s]\n",
      "loss: 0.1020 ||: 100%|██████████| 1049/1049 [01:49<00:00,  9.55it/s]\n",
      "loss: 0.0886 ||: 100%|██████████| 1049/1049 [01:51<00:00,  9.42it/s]\n",
      "loss: 0.0779 ||: 100%|██████████| 1049/1049 [02:53<00:00,  6.05it/s]\n",
      "loss: 0.0681 ||: 100%|██████████| 1049/1049 [02:47<00:00,  5.07it/s]\n",
      "loss: 0.0594 ||: 100%|██████████| 1049/1049 [03:19<00:00,  5.44it/s]\n",
      "loss: 0.0516 ||: 100%|██████████| 1049/1049 [03:18<00:00,  4.47it/s]\n",
      "loss: 0.0457 ||: 100%|██████████| 1049/1049 [03:18<00:00,  6.68it/s]\n",
      "loss: 0.0401 ||: 100%|██████████| 1049/1049 [03:20<00:00,  6.03it/s]\n",
      "loss: 0.0352 ||: 100%|██████████| 1049/1049 [02:49<00:00,  8.81it/s]\n",
      "loss: 0.0314 ||: 100%|██████████| 1049/1049 [01:53<00:00,  9.27it/s]\n",
      "loss: 0.0276 ||: 100%|██████████| 1049/1049 [03:20<00:00,  5.44it/s]\n",
      "loss: 0.0255 ||: 100%|██████████| 1049/1049 [03:19<00:00,  5.23it/s]\n",
      "loss: 0.0237 ||: 100%|██████████| 1049/1049 [03:20<00:00,  6.42it/s]\n",
      "loss: 0.0196 ||: 100%|██████████| 1049/1049 [03:20<00:00,  5.08it/s]\n",
      "loss: 0.0197 ||: 100%|██████████| 1049/1049 [03:18<00:00,  5.74it/s]\n",
      "loss: 0.0176 ||: 100%|██████████| 1049/1049 [03:24<00:00,  4.82it/s]\n",
      "loss: 0.0159 ||: 100%|██████████| 1049/1049 [03:20<00:00,  5.43it/s]\n",
      "loss: 0.0153 ||: 100%|██████████| 1049/1049 [03:19<00:00,  3.87it/s]\n",
      "loss: 0.0143 ||: 100%|██████████| 1049/1049 [03:19<00:00,  6.26it/s]\n",
      "loss: 0.0137 ||: 100%|██████████| 1049/1049 [03:20<00:00,  4.81it/s]\n",
      "loss: 0.0132 ||: 100%|██████████| 1049/1049 [03:18<00:00,  6.08it/s]\n",
      "loss: 0.0119 ||: 100%|██████████| 1049/1049 [03:23<00:00,  6.72it/s]\n",
      "loss: 0.0105 ||: 100%|██████████| 1049/1049 [03:18<00:00,  5.54it/s]\n",
      "loss: 0.0111 ||: 100%|██████████| 1049/1049 [03:19<00:00,  5.26it/s]\n",
      "loss: 0.0113 ||: 100%|██████████| 1049/1049 [03:20<00:00,  4.59it/s]\n"
     ]
    }
   ],
   "source": [
    "    # train the model \n",
    "    metrics = trainer.train()"
   ]
  },
  {
   "cell_type": "code",
   "execution_count": 18,
   "metadata": {},
   "outputs": [],
   "source": [
    "    # load model\n",
    "#     model.load_state_dict(T.load(model_folder + \"/model.th\"))"
   ]
  },
  {
   "cell_type": "code",
   "execution_count": 19,
   "metadata": {},
   "outputs": [],
   "source": [
    "    # save \n",
    "    with open(model_folder+'model.th', 'wb') as f:\n",
    "        T.save(model.state_dict(), f)"
   ]
  },
  {
   "cell_type": "code",
   "execution_count": null,
   "metadata": {},
   "outputs": [
    {
     "name": "stderr",
     "output_type": "stream",
     "text": [
      " 59%|█████▊    | 616/1049 [02:02<01:28,  4.87it/s]"
     ]
    }
   ],
   "source": [
    "    # training data analysis\n",
    "    seq_iterator = BasicIterator(batch_size=config.batch_size)\n",
    "    seq_iterator.index_with(vocab)\n",
    "    \n",
    "    predictor = Predictor(model, seq_iterator, cuda_device=0 if USE_GPU else -1)\n",
    "    train_preds = predictor.predict(train_ds) \n",
    "    \n",
    "    label_types = [r_idx2label.get(i.fields['label'].label) for i in train_ds]\n",
    "    predict_types = [r_idx2label.get(i) for i in np.argmax(train_preds, axis=-1)]\n",
    "    err_analyze(train_ds, label_types, predict_types, \"train\")\n",
    "    "
   ]
  },
  {
   "cell_type": "code",
   "execution_count": null,
   "metadata": {},
   "outputs": [],
   "source": [
    "    plot_comfusion_matrix(label_types, predict_types, output_path, \"train_full\")"
   ]
  },
  {
   "cell_type": "code",
   "execution_count": 24,
   "metadata": {},
   "outputs": [
    {
     "name": "stderr",
     "output_type": "stream",
     "text": [
      "0it [00:00, ?it/s]\n",
      "  0%|          | 0/80 [00:00<?, ?it/s]\u001b[A\n",
      " 22%|██▎       | 18/80 [00:00<00:00, 168.20it/s]\u001b[A\n",
      " 50%|█████     | 40/80 [00:00<00:00, 179.33it/s]\u001b[A\n",
      " 66%|██████▋   | 53/80 [00:00<00:00, 160.77it/s]\u001b[A\n",
      " 90%|█████████ | 72/80 [00:00<00:00, 162.57it/s]\u001b[A\n",
      "13691it [00:09, 1419.75it/s]0<00:00, 160.53it/s]\u001b[A\n",
      "  0%|          | 0/214 [00:00<?, ?it/s]"
     ]
    },
    {
     "name": "stdout",
     "output_type": "stream",
     "text": [
      "13691\n"
     ]
    },
    {
     "name": "stderr",
     "output_type": "stream",
     "text": [
      "100%|██████████| 214/214 [00:25<00:00,  9.62it/s]\n"
     ]
    }
   ],
   "source": [
    "    # testing data analysis\n",
    "    \n",
    "    # AllenNLP DatasetReader\n",
    "    reader = RelationDatasetReader(\n",
    "        is_training=True, \n",
    "        ace05_reader=ace05_reader, \n",
    "        tokenizer=lambda s: token_indexer.wordpiece_tokenizer(s),\n",
    "        token_indexers={\"tokens\": token_indexer}\n",
    "    )\n",
    "    \n",
    "    test_ds = reader.read(test_path)\n",
    "    print(len(test_ds))\n",
    "    seq_iterator = BasicIterator(batch_size=config.batch_size)\n",
    "    seq_iterator.index_with(vocab)\n",
    "    \n",
    "    predictor = Predictor(model, seq_iterator, cuda_device=0 if USE_GPU else -1)\n",
    "    test_preds = predictor.predict(test_ds) \n",
    "    \n",
    "    label_types = [r_idx2label.get(i.fields['label'].label) for i in test_ds]\n",
    "    predict_types = [r_idx2label.get(i) for i in np.argmax(test_preds, axis=-1)]  \n",
    "    \n",
    "    err_analyze(test_ds, label_types, predict_types, \"test\")\n",
    "#     pre = np.array([r_label2idx[i] for i in predict_types])\n",
    "#     lab = np.array([r_label2idx[i] for i in label_types])\n",
    "#     compute_macro_PRF(pre, lab)"
   ]
  },
  {
   "cell_type": "code",
   "execution_count": 25,
   "metadata": {},
   "outputs": [
    {
     "name": "stdout",
     "output_type": "stream",
     "text": [
      "[[   51     1     0     0     0     1     0     0     0     0     0     0\n",
      "     98]\n",
      " [    4    22     0     0     0     0     0     1     0     0     0     0\n",
      "     35]\n",
      " [    0     0    23     0     0     0     0     0     0     1     0     0\n",
      "     29]\n",
      " [    0     0     0    21     0     1     0     0     0     0     0     0\n",
      "     39]\n",
      " [    2     0     0     0    28     0     0     0     0     0     0     0\n",
      "     57]\n",
      " [    4     0     0     0     0     8     0     0     0     0     0     0\n",
      "     16]\n",
      " [    0     0     0     0     0     0     0     0     0     0     0     1\n",
      "     32]\n",
      " [    0     0     0     0     1     0     0    16     0     1     0     1\n",
      "     35]\n",
      " [    0     0     0     0     0     0     0     0     0     0     0     0\n",
      "      1]\n",
      " [    0     0     0     0     0     0     0     0     0   105     0     2\n",
      "     65]\n",
      " [    0     0     0     0     0     0     0     0     0     0     0     0\n",
      "     18]\n",
      " [    0     0     0     0     0     0     0     1     0     6     0    10\n",
      "     16]\n",
      " [   59     8    12    16    18     2     4    14     0    45     2    14\n",
      "  12744]]\n"
     ]
    },
    {
     "data": {
      "image/png": "[encoded data removed]",
      "text/plain": [
       "<Figure size 432x288 with 2 Axes>"
      ]
     },
     "metadata": {
      "needs_background": "light"
     },
     "output_type": "display_data"
    },
    {
     "name": "stdout",
     "output_type": "stream",
     "text": [
      "Accuracy: 0.9515740267328903\n",
      "Precision: 0.470003993213466\n",
      "Recall: 0.3287047773446028\n",
      "F1 score: 0.37928681719572893\n"
     ]
    }
   ],
   "source": [
    "    plot_comfusion_matrix(label_types, predict_types, output_path, \"test_full\")"
   ]
  },
  {
   "cell_type": "code",
   "execution_count": null,
   "metadata": {},
   "outputs": [],
   "source": []
  }
 ],
 "metadata": {
  "kernelspec": {
   "display_name": "Python 3",
   "language": "python",
   "name": "python3"
  },
  "language_info": {
   "codemirror_mode": {
    "name": "ipython",
    "version": 3
   },
   "file_extension": ".py",
   "mimetype": "text/x-python",
   "name": "python",
   "nbconvert_exporter": "python",
   "pygments_lexer": "ipython3",
   "version": "3.6.8"
  }
 },
 "nbformat": 4,
 "nbformat_minor": 4
}
