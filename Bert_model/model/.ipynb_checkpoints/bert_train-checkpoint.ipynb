{
 "cells": [
  {
   "cell_type": "code",
   "execution_count": 1,
   "metadata": {},
   "outputs": [
    {
     "name": "stderr",
     "output_type": "stream",
     "text": [
      "/usr/local/lib/python3.6/dist-packages/sklearn/utils/linear_assignment_.py:21: DeprecationWarning: The linear_assignment_ module is deprecated in 0.21 and will be removed from 0.23. Use scipy.optimize.linear_sum_assignment instead.\n",
      "  DeprecationWarning)\n"
     ]
    }
   ],
   "source": [
    "import sys\n",
    "sys.path.append(\"/work/multi_doc_analyzer\")\n",
    "sys.path.append(\"/work/relation_extraction/Bert_model/data/\")\n",
    "\n",
    "import torch as T\n",
    "import numpy as np\n",
    "import torch.nn as nn\n",
    "import torch.optim as optim\n",
    "import torch.cuda\n",
    "from allennlp.nn import util as nn_util\n",
    "from multi_doc_analyzer.structure.structure import *\n",
    "from multi_doc_analyzer.tokenization.tokenizer import MDATokenizer\n",
    "from tqdm import tqdm\n",
    "\n",
    "from allennlp.data.dataset_readers import DatasetReader\n",
    "from allennlp.data.tokenizers import Token, Tokenizer, WordTokenizer\n",
    "from allennlp.data.token_indexers import TokenIndexer\n",
    "\n",
    "from allennlp.data.instance import Instance\n",
    "from allennlp.data.fields import TextField, LabelField, ArrayField\n",
    "\n",
    "from ace05_set_reader import ACE05Reader\n",
    "\n",
    "from allennlp.data.vocabulary import Vocabulary\n",
    "from allennlp.data.iterators import BucketIterator, DataIterator, BasicIterator\n",
    "from allennlp.nn.util import get_text_field_mask\n",
    "from allennlp.models import Model\n",
    "from allennlp.modules.text_field_embedders import TextFieldEmbedder\n",
    "import random\n",
    "\n",
    "from allennlp.data.token_indexers import PretrainedBertIndexer\n",
    "from allennlp.modules.text_field_embedders import BasicTextFieldEmbedder\n",
    "from allennlp.modules.token_embedders.bert_token_embedder import PretrainedBertEmbedder\n",
    "\n",
    "from sklearn.metrics import confusion_matrix\n",
    "import matplotlib.pyplot as plt"
   ]
  },
  {
   "cell_type": "code",
   "execution_count": 2,
   "metadata": {},
   "outputs": [],
   "source": [
    "train_path = \"/work/LDC2006T06/dataset/train/\"\n",
    "test_path = \"/work/LDC2006T06/dataset/test/\"\n",
    "model_folder = \"/work/model_checkpoint/bert_model_checkpoint/\"\n",
    "output_path = \"/work/relation_extraction/Bert_model/model/\""
   ]
  },
  {
   "cell_type": "code",
   "execution_count": 3,
   "metadata": {},
   "outputs": [],
   "source": [
    "class Config(dict):\n",
    "    def __init__(self, **kwargs):\n",
    "        super().__init__(**kwargs)\n",
    "        for k, v in kwargs.items():\n",
    "            setattr(self, k, v)\n",
    "    \n",
    "    def set(self, key, val):\n",
    "        self[key] = val\n",
    "        setattr(self, key, val)\n",
    "        \n",
    "config = Config(\n",
    "    seed=1,\n",
    "    batch_size=64,\n",
    "    lr=3e-4,                # learning rate\n",
    "    epochs=50,\n",
    "    hidden_sz=128,\n",
    "    arg_sz=3,\n",
    "    max_seq_len=100\n",
    ")"
   ]
  },
  {
   "cell_type": "code",
   "execution_count": 4,
   "metadata": {},
   "outputs": [
    {
     "data": {
      "text/plain": [
       "True"
      ]
     },
     "execution_count": 4,
     "metadata": {},
     "output_type": "execute_result"
    }
   ],
   "source": [
    "USE_GPU = T.cuda.is_available()\n",
    "USE_GPU"
   ]
  },
  {
   "cell_type": "code",
   "execution_count": 5,
   "metadata": {},
   "outputs": [
    {
     "data": {
      "text/plain": [
       "<torch._C.Generator at 0x7f0d3c026890>"
      ]
     },
     "execution_count": 5,
     "metadata": {},
     "output_type": "execute_result"
    }
   ],
   "source": [
    "# set seed for both CPU and CUDA\n",
    "T.manual_seed(config.seed)"
   ]
  },
  {
   "cell_type": "code",
   "execution_count": 6,
   "metadata": {},
   "outputs": [],
   "source": [
    "e_type2idx = {'X':0, 'O': 1, 'PER': 2, 'ORG': 3, 'LOC': 4, 'GPE': 5, 'FAC': 6, 'VEH': 7, 'WEA': 8}\n",
    "\n",
    "r_label2idx = {'PHYS-lr': 1, 'PART-WHOLE-lr': 2, 'PER-SOC-lr': 3, 'ORG-AFF-lr': 4, 'ART-lr': 5, 'GEN-AFF-lr': 6,\n",
    "               'PHYS-rl': 7, 'PART-WHOLE-rl': 8, 'PER-SOC-rl': 9, 'ORG-AFF-rl': 10, 'ART-rl': 11, 'GEN-AFF-rl': 12,\n",
    "               'NONE': 0}\n",
    "\n",
    "r_idx2label = {v: k for k, v in r_label2idx.items()}\n",
    "\n",
    "class RelationDatasetReader(DatasetReader):\n",
    "    \"\"\"\n",
    "    Reads Structure object formatted datasets files, and creates AllenNLP instances.\n",
    "    \"\"\"\n",
    "    def __init__(self, tokenizer: Tokenizer=None, token_indexers: Dict[str, TokenIndexer]=None, \n",
    "                 MAX_WORDPIECES: int=config.max_seq_len, \n",
    "                 is_training = False, ace05_reader: ACE05Reader=None):\n",
    "        # make sure results may be reproduced when sampling...\n",
    "        super().__init__(lazy=False)\n",
    "        random.seed(0)\n",
    "        self.is_training = is_training\n",
    "        self.ace05_reader = ace05_reader\n",
    "        \n",
    "        # NOTE AllenNLP automatically adds [CLS] and [SEP] word peices in the begining and end of the context,\n",
    "        # therefore we need to subtract 2\n",
    "        self.MAX_WORDPIECES = MAX_WORDPIECES - 2\n",
    "        \n",
    "        self.tokenizer = tokenizer or WordTokenizer()\n",
    "        \n",
    "        # BERT specific init\n",
    "        self._token_indexers = token_indexers\n",
    "\n",
    "    def text_to_instance(self, sentence: Sentence) -> Instance:\n",
    "#         sentence_tokens = [Token(x) for x in self.tokenizer(sentence.text)]\n",
    "#         sentence_tokens = [Token(i) for t in sentence.text for i in self.tokenizer(t)]\n",
    "#         sentence_tokens = [Token(text=t) for t in sentence.text]\n",
    "        sentence_tokens = []\n",
    "#         td = self.tokenizer(sentence.text)\n",
    "#         print(td)\n",
    "        for t in sentence.tokens:\n",
    "#             print(type(t.text), t.text)\n",
    "            sentence_tokens.append(Token(text=t.text))\n",
    "#         for t in sentence.text:\n",
    "#             td = self.tokenizer(t)\n",
    "#             assert len(td) == 1 or len(td) == 0\n",
    "#             if td:\n",
    "#                 sentence_tokens.append(Token(text=td[0]))\n",
    "#             else:\n",
    "#                 sentence_tokens.append(Token(text='[MASK]'))\n",
    "\n",
    "        sentence_field = TextField(sentence_tokens, self._token_indexers)\n",
    "        fields = {\"tokens\": sentence_field}\n",
    "#         char_list_field = ListField([t for t in sentence.text])\n",
    "#         fields['char_list'] = char_list_field\n",
    "\n",
    "        e_tuple_check_dicts = {} # {(train_arg_l.id, train_arg_r.id):true_label, ...}\n",
    "        if self.is_training: \n",
    "            for r in sentence.relation_mentions:\n",
    "                train_arg_l, train_arg_r, true_label = r.get_left_right_args()\n",
    "                e_tuple_check_dicts[(train_arg_l.id, train_arg_r.id)] = true_label\n",
    "\n",
    "        # construct pair entities\n",
    "        for arg_left_idx in range(len(sentence.entity_mentions)-1):\n",
    "            for arg_right_idx in range(arg_left_idx+1, len(sentence.entity_mentions)):\n",
    "                arg_left = sentence.entity_mentions[arg_left_idx]\n",
    "                arg_right = sentence.entity_mentions[arg_right_idx]\n",
    "                arg_vec = T.zeros(self.MAX_WORDPIECES + 2, dtype=T.long)\n",
    "                arg_vec[:len(sentence_tokens)+2] = 1\n",
    "\n",
    "                # +1 because the first token is [CLS]\n",
    "                arg_vec[arg_left.char_b+1:arg_left.char_e+1] = e_type2idx[arg_left.type]\n",
    "                arg_vec[arg_right.char_b+1:arg_right.char_e+1] = e_type2idx[arg_right.type]\n",
    "                fields[\"arg_idx\"] = ArrayField(arg_vec)\n",
    "\n",
    "\n",
    "#                 fields[\"arg_left\"] = SpanField(arg_left.char_b, arg_left.char_e, char_list_field)\n",
    "#                 fields[\"arg_right\"] = SpanField(arg_right.char_b, arg_right.char_e, char_list_field)\n",
    "                if self.is_training:\n",
    "                    if (arg_left.id, arg_right.id) in e_tuple_check_dicts.keys():\n",
    "                        fields[\"label\"] = LabelField(r_label2idx[e_tuple_check_dicts[(arg_left.id, arg_right.id)]], skip_indexing=True)\n",
    "                    else:\n",
    "                        fields[\"label\"] = LabelField(r_label2idx['NONE'], skip_indexing=True)\n",
    "                yield Instance(fields)\n",
    "    \n",
    "    def _read(self, file_path: str)->Iterator: \n",
    "        doc_dicts = self.ace05_reader.read(file_path)\n",
    "        tokenizer = MDATokenizer('bert-en')\n",
    "        for doc in doc_dicts.values():\n",
    "            tokenizer.annotate_document(doc)\n",
    "            for s in doc.sentences: \n",
    "                if len(s.tokens) <= config.max_seq_len:\n",
    "                    for instance in self.text_to_instance(s):\n",
    "                        yield instance"
   ]
  },
  {
   "cell_type": "code",
   "execution_count": 7,
   "metadata": {},
   "outputs": [],
   "source": [
    "class BERT(Model):\n",
    "    def __init__(self, word_embeddings: TextFieldEmbedder,\n",
    "                out_sz: int=len(r_label2idx)):\n",
    "        super().__init__(vocab)\n",
    "        self.word_embeddings = word_embeddings\n",
    "        self._entity_embeddings = T.nn.Embedding(num_embeddings=len(e_type2idx), embedding_dim=config.arg_sz, padding_idx=0)\n",
    "        self.gru = T.nn.GRU(word_embeddings.get_output_dim()+config.arg_sz, config.hidden_sz, batch_first=True)\n",
    "        self.projection = nn.Linear(config.hidden_sz, out_sz)\n",
    "        self.loss = nn.CrossEntropyLoss()\n",
    "        \n",
    "    def forward(self, tokens: Dict[str, T.tensor], arg_idx: T.tensor, label: T.tensor = None) -> Dict[str, T.tensor]:\n",
    "        mask = get_text_field_mask(tokens)\n",
    "        \n",
    "        embeddings = self.word_embeddings(tokens)\n",
    "        pad_len = embeddings.shape[-2]\n",
    "        \n",
    "        arg_idx = arg_idx[:,:pad_len]\n",
    "        arg_idx = arg_idx.type(T.long)\n",
    "        \n",
    "        arg_emb = self._entity_embeddings(arg_idx)\n",
    "\n",
    "        concat = T.cat((embeddings, arg_emb), -1)\n",
    "        ot, ht = self.gru(concat, None) # revise this \"None\"\n",
    "        ot = ot[:,-1,:]    \n",
    "        class_logits = self.projection(ot)\n",
    "        \n",
    "        output = {\"class_logits\": class_logits}\n",
    "        output[\"loss\"] = self.loss(class_logits, label)\n",
    "\n",
    "        return output"
   ]
  },
  {
   "cell_type": "code",
   "execution_count": 8,
   "metadata": {},
   "outputs": [],
   "source": [
    "from scipy.special import expit # the sigmoid function\n",
    "def tonp(tsr): return tsr.detach().cpu().numpy()"
   ]
  },
  {
   "cell_type": "code",
   "execution_count": 9,
   "metadata": {},
   "outputs": [],
   "source": [
    "# Predict\n",
    "class Predictor:\n",
    "    def __init__(self, model: Model, iterator: DataIterator,\n",
    "                 cuda_device: int=-1) -> None:\n",
    "        self.model = model\n",
    "        self.iterator = iterator\n",
    "        self.cuda_device = cuda_device\n",
    "        \n",
    "    def _extract_data(self, batch) -> np.ndarray:\n",
    "        out_dict = self.model(**batch)\n",
    "        return expit(tonp(out_dict[\"class_logits\"]))\n",
    "    \n",
    "    def predict(self, ds: Iterable[Instance]) -> np.ndarray:\n",
    "        pred_generator = self.iterator(ds, num_epochs=1, shuffle=False)\n",
    "        self.model.eval()\n",
    "        pred_generator_tqdm = tqdm(pred_generator, total=self.iterator.get_num_batches(ds))\n",
    "        preds = []\n",
    "        with T.no_grad():\n",
    "            for batch in pred_generator_tqdm:\n",
    "                batch = nn_util.move_to_device(batch, self.cuda_device)\n",
    "                preds.append(self._extract_data(batch))\n",
    "        return np.concatenate(preds, axis=0)"
   ]
  },
  {
   "cell_type": "code",
   "execution_count": 10,
   "metadata": {},
   "outputs": [],
   "source": [
    "def plot_comfusion_matrix(label_classes, predict_classes, out_folder, file_name):\n",
    "    label_types = list(r_idx2label.values())\n",
    "    print(type(label_classes), len(label_classes))\n",
    "    cm = confusion_matrix(label_classes, predict_classes, label_types)\n",
    "    print(cm)\n",
    "    fig = plt.figure()\n",
    "    ax = fig.add_subplot(111)\n",
    "    cax = ax.matshow(cm)\n",
    "    for (i, j), z in np.ndenumerate(cm):\n",
    "        ax.text(j, i, '{:0.0f}'.format(z), ha='center', va='center', color='white')\n",
    "    fig.colorbar(cax)\n",
    "    ax.set_xticklabels([''] + label_types)\n",
    "    ax.set_yticklabels([''] + label_types)\n",
    "    plt.xlabel('Predicted')\n",
    "    plt.ylabel('True')\n",
    "\n",
    "    plt.savefig(out_folder + 'confusion_matrix_' + file_name + '.png')\n",
    "    plt.show()\n",
    "\n",
    "    print(\"Accuracy:\", )\n",
    "    print(\"F1 score:\", )"
   ]
  },
  {
   "cell_type": "code",
   "execution_count": 11,
   "metadata": {},
   "outputs": [
    {
     "name": "stderr",
     "output_type": "stream",
     "text": [
      "0it [00:00, ?it/s]\n",
      "  0%|          | 0/351 [00:00<?, ?it/s]\u001b[A\n",
      "  4%|▎         | 13/351 [00:00<00:02, 123.18it/s]\u001b[A\n",
      "  9%|▉         | 31/351 [00:00<00:02, 135.89it/s]\u001b[A\n",
      " 13%|█▎        | 45/351 [00:00<00:02, 136.60it/s]\u001b[A\n",
      " 17%|█▋        | 61/351 [00:00<00:02, 137.78it/s]\u001b[A\n",
      " 23%|██▎       | 81/351 [00:00<00:01, 147.67it/s]\u001b[A\n",
      " 27%|██▋       | 95/351 [00:00<00:03, 70.10it/s] \u001b[A\n",
      " 31%|███       | 108/351 [00:01<00:03, 79.77it/s]\u001b[A\n",
      " 35%|███▌      | 123/351 [00:01<00:02, 92.27it/s]\u001b[A\n",
      " 38%|███▊      | 135/351 [00:01<00:02, 93.16it/s]\u001b[A\n",
      " 45%|████▍     | 157/351 [00:01<00:01, 112.07it/s]\u001b[A\n",
      " 49%|████▉     | 172/351 [00:01<00:01, 103.40it/s]\u001b[A\n",
      " 54%|█████▍    | 189/351 [00:01<00:01, 117.04it/s]\u001b[A\n",
      " 59%|█████▉    | 207/351 [00:01<00:01, 128.79it/s]\u001b[A\n",
      " 63%|██████▎   | 222/351 [00:01<00:01, 121.72it/s]\u001b[A\n",
      " 67%|██████▋   | 236/351 [00:02<00:00, 123.42it/s]\u001b[A\n",
      " 71%|███████   | 250/351 [00:02<00:00, 127.55it/s]\u001b[A\n",
      " 75%|███████▌  | 264/351 [00:02<00:00, 121.99it/s]\u001b[A\n",
      " 82%|████████▏ | 287/351 [00:02<00:00, 141.86it/s]\u001b[A\n",
      " 86%|████████▋ | 303/351 [00:02<00:00, 130.41it/s]\u001b[A\n",
      " 91%|█████████ | 318/351 [00:02<00:00, 126.12it/s]\u001b[A\n",
      " 95%|█████████▍| 332/351 [00:02<00:00, 116.97it/s]\u001b[A\n",
      " 98%|█████████▊| 345/351 [00:02<00:00, 113.65it/s]\u001b[A\n",
      "9343it [00:32, 290.99it/s] 0:02<00:00, 118.74it/s]\u001b[A\n"
     ]
    }
   ],
   "source": [
    "\n",
    "if __name__ == '__main__':\n",
    "\n",
    "    ace05_reader = ACE05Reader(lang='en')\n",
    "    \n",
    "    token_indexer = PretrainedBertIndexer(\n",
    "        pretrained_model=\"bert-base-uncased\",\n",
    "        max_pieces=config.max_seq_len\n",
    "#         truncate_long_sequences=False,\n",
    "#         do_lowercase=False               # for cased condition\n",
    "    )\n",
    " \n",
    "\t# AllenNLP DatasetReader\n",
    "    reader = RelationDatasetReader(\n",
    "        is_training=True, \n",
    "        ace05_reader=ace05_reader, \n",
    "        tokenizer=lambda s: token_indexer.wordpiece_tokenizer(s),\n",
    "        token_indexers={\"tokens\": token_indexer}\n",
    "    )\n",
    "\n",
    "    train_ds = reader.read(train_path)\n",
    "    \n",
    "    vocab = Vocabulary()\n",
    "    iterator = BucketIterator(batch_size=config.batch_size, sorting_keys=[(\"tokens\", \"num_tokens\")])\n",
    "    iterator.index_with(vocab)\n",
    "\n",
    "    bert_embedder = PretrainedBertEmbedder(\n",
    "        pretrained_model=\"bert-base-uncased\",\n",
    "        top_layer_only=True, # conserve memory   \n",
    "    )\n",
    "    word_embeddings: TextFieldEmbedder = BasicTextFieldEmbedder({\"tokens\": bert_embedder},\n",
    "                                                                # we'll be ignoring masks so we'll need to set this to True\n",
    "                                                               allow_unmatched_keys = True)\n",
    "    model = BERT(word_embeddings)\n",
    "    if USE_GPU:\n",
    "        model.cuda()\n",
    "\n",
    "    optimizer = optim.Adam(model.parameters(), lr=config.lr)"
   ]
  },
  {
   "cell_type": "code",
   "execution_count": 12,
   "metadata": {},
   "outputs": [],
   "source": [
    "    # training\n",
    "    from allennlp.training.trainer import Trainer\n",
    "\n",
    "    trainer = Trainer(\n",
    "        model=model,\n",
    "        optimizer=optimizer,\n",
    "        iterator=iterator,\n",
    "        train_dataset=train_ds,\n",
    "        cuda_device=0 if USE_GPU else -1,\n",
    "        num_epochs=config.epochs,\n",
    "    )"
   ]
  },
  {
   "cell_type": "code",
   "execution_count": 13,
   "metadata": {},
   "outputs": [
    {
     "name": "stderr",
     "output_type": "stream",
     "text": [
      "loss: 0.6563 ||: 100%|██████████| 146/146 [00:08<00:00, 18.56it/s]\n",
      "loss: 0.5038 ||: 100%|██████████| 146/146 [00:07<00:00, 18.55it/s]\n",
      "loss: 0.4249 ||: 100%|██████████| 146/146 [00:07<00:00, 18.59it/s]\n",
      "loss: 0.2996 ||: 100%|██████████| 146/146 [00:07<00:00, 18.34it/s]\n",
      "loss: 0.1953 ||: 100%|██████████| 146/146 [00:08<00:00, 18.04it/s]\n",
      "loss: 0.1349 ||: 100%|██████████| 146/146 [00:07<00:00, 18.28it/s]\n",
      "loss: 0.0996 ||: 100%|██████████| 146/146 [00:08<00:00, 18.71it/s]\n",
      "loss: 0.0758 ||: 100%|██████████| 146/146 [00:07<00:00, 19.39it/s]\n",
      "loss: 0.0619 ||: 100%|██████████| 146/146 [00:07<00:00, 17.94it/s]\n",
      "loss: 0.0530 ||: 100%|██████████| 146/146 [00:07<00:00, 19.76it/s]\n",
      "loss: 0.0443 ||: 100%|██████████| 146/146 [00:08<00:00, 18.02it/s]\n",
      "loss: 0.0369 ||: 100%|██████████| 146/146 [00:08<00:00, 17.87it/s]\n",
      "loss: 0.0317 ||: 100%|██████████| 146/146 [00:08<00:00, 18.07it/s]\n",
      "loss: 0.0251 ||: 100%|██████████| 146/146 [00:08<00:00, 17.34it/s]\n",
      "loss: 0.0212 ||: 100%|██████████| 146/146 [00:07<00:00, 18.36it/s]\n",
      "loss: 0.0214 ||: 100%|██████████| 146/146 [00:08<00:00, 18.86it/s]\n",
      "loss: 0.0215 ||: 100%|██████████| 146/146 [00:08<00:00, 18.24it/s]\n",
      "loss: 0.0170 ||: 100%|██████████| 146/146 [00:08<00:00, 17.85it/s]\n",
      "loss: 0.0102 ||: 100%|██████████| 146/146 [00:08<00:00, 17.27it/s]\n",
      "ERROR:allennlp.common.util:unable to check gpu_memory_mb(), continuing\n",
      "Traceback (most recent call last):\n",
      "  File \"/usr/local/lib/python3.6/dist-packages/allennlp/common/util.py\", line 378, in gpu_memory_mb\n",
      "    encoding='utf-8')\n",
      "  File \"/usr/lib/python3.6/subprocess.py\", line 356, in check_output\n",
      "    **kwargs).stdout\n",
      "  File \"/usr/lib/python3.6/subprocess.py\", line 423, in run\n",
      "    with Popen(*popenargs, **kwargs) as process:\n",
      "  File \"/usr/lib/python3.6/subprocess.py\", line 729, in __init__\n",
      "    restore_signals, start_new_session)\n",
      "  File \"/usr/lib/python3.6/subprocess.py\", line 1295, in _execute_child\n",
      "    restore_signals, start_new_session, preexec_fn)\n",
      "OSError: [Errno 12] Cannot allocate memory\n",
      "loss: 0.0100 ||: 100%|██████████| 146/146 [00:08<00:00, 19.10it/s]\n",
      "loss: 0.0104 ||: 100%|██████████| 146/146 [00:09<00:00, 18.00it/s]\n",
      "loss: 0.0089 ||: 100%|██████████| 146/146 [00:08<00:00, 18.11it/s]\n",
      "loss: 0.0078 ||: 100%|██████████| 146/146 [00:08<00:00, 18.15it/s]\n",
      "loss: 0.0097 ||: 100%|██████████| 146/146 [00:08<00:00, 18.79it/s]\n",
      "loss: 0.0093 ||: 100%|██████████| 146/146 [00:08<00:00, 16.52it/s]\n",
      "loss: 0.0087 ||: 100%|██████████| 146/146 [00:08<00:00, 17.61it/s]\n",
      "loss: 0.0071 ||: 100%|██████████| 146/146 [00:08<00:00, 17.46it/s]\n",
      "loss: 0.0046 ||: 100%|██████████| 146/146 [00:08<00:00, 17.47it/s]\n",
      "loss: 0.0058 ||: 100%|██████████| 146/146 [00:08<00:00, 17.57it/s]\n",
      "loss: 0.0028 ||: 100%|██████████| 146/146 [00:08<00:00, 17.84it/s]\n",
      "loss: 0.0020 ||: 100%|██████████| 146/146 [00:08<00:00, 19.84it/s]\n",
      "loss: 0.0027 ||: 100%|██████████| 146/146 [00:08<00:00, 18.34it/s]\n",
      "loss: 0.0019 ||: 100%|██████████| 146/146 [00:08<00:00, 18.64it/s]\n",
      "loss: 0.0047 ||: 100%|██████████| 146/146 [00:07<00:00, 21.01it/s]\n",
      "loss: 0.0018 ||: 100%|██████████| 146/146 [00:07<00:00, 20.31it/s]\n",
      "loss: 0.0032 ||: 100%|██████████| 146/146 [00:08<00:00, 19.52it/s]\n",
      "loss: 0.0025 ||: 100%|██████████| 146/146 [00:08<00:00, 18.03it/s]\n",
      "loss: 0.0017 ||: 100%|██████████| 146/146 [00:08<00:00, 20.89it/s]\n",
      "loss: 0.0010 ||: 100%|██████████| 146/146 [00:08<00:00, 18.07it/s]\n",
      "loss: 0.0009 ||: 100%|██████████| 146/146 [00:08<00:00, 18.10it/s]\n",
      "loss: 0.0110 ||: 100%|██████████| 146/146 [00:07<00:00, 19.77it/s]\n",
      "loss: 0.0015 ||: 100%|██████████| 146/146 [00:07<00:00, 18.25it/s]\n",
      "loss: 0.0008 ||: 100%|██████████| 146/146 [00:08<00:00, 17.46it/s]\n",
      "loss: 0.0006 ||: 100%|██████████| 146/146 [00:08<00:00, 17.92it/s]\n",
      "loss: 0.0020 ||: 100%|██████████| 146/146 [00:08<00:00, 17.93it/s]\n",
      "loss: 0.0020 ||: 100%|██████████| 146/146 [00:08<00:00, 17.76it/s]\n",
      "loss: 0.0010 ||: 100%|██████████| 146/146 [00:08<00:00, 19.33it/s]\n",
      "loss: 0.0078 ||: 100%|██████████| 146/146 [00:08<00:00, 18.10it/s]\n",
      "loss: 0.0085 ||: 100%|██████████| 146/146 [00:08<00:00, 17.88it/s]\n",
      "loss: 0.0012 ||: 100%|██████████| 146/146 [00:07<00:00, 18.88it/s]\n"
     ]
    }
   ],
   "source": [
    "    # train the model \n",
    "    metrics = trainer.train()"
   ]
  },
  {
   "cell_type": "code",
   "execution_count": 14,
   "metadata": {},
   "outputs": [],
   "source": [
    "    # load model\n",
    "#     model.load_state_dict(T.load(config.model_folder + \"/model.th\"))"
   ]
  },
  {
   "cell_type": "code",
   "execution_count": 15,
   "metadata": {},
   "outputs": [],
   "source": [
    "    # save \n",
    "    with open(model_folder+'model.th', 'wb') as f:\n",
    "        T.save(model.state_dict(), f)"
   ]
  },
  {
   "cell_type": "code",
   "execution_count": 16,
   "metadata": {},
   "outputs": [
    {
     "name": "stderr",
     "output_type": "stream",
     "text": [
      "100%|██████████| 146/146 [00:08<00:00, 17.86it/s]\n"
     ]
    }
   ],
   "source": [
    "    # training data analysis\n",
    "    seq_iterator = BasicIterator(batch_size=config.batch_size)\n",
    "    seq_iterator.index_with(vocab)\n",
    "    \n",
    "    predictor = Predictor(model, seq_iterator, cuda_device=0 if USE_GPU else -1)\n",
    "    train_preds = predictor.predict(train_ds) \n",
    "    \n",
    "    label_types = [r_idx2label.get(i.fields['label'].label) for i in train_ds]\n",
    "    predict_types = [r_idx2label.get(i) for i in np.argmax(train_preds, axis=-1)]"
   ]
  },
  {
   "cell_type": "code",
   "execution_count": 17,
   "metadata": {},
   "outputs": [
    {
     "name": "stdout",
     "output_type": "stream",
     "text": [
      "<class 'list'> 9343\n",
      "[[ 198    0    0    0    0    0    0    0    0    0    0    0    4]\n",
      " [   0  149    0    0    0    0    0    0    0    0    0    0    0]\n",
      " [   0    0  104    0    0    0    0    0    0    0    0    0    3]\n",
      " [   0    0    0  142    0    0    0    0    0    0    0    0    0]\n",
      " [   0    0    0    0  144    0    0    0    0    0    0    0    2]\n",
      " [   0    0    0    0    0   47    0    0    0    0    0    0    1]\n",
      " [   0    0    0    0    0    0    7    0    0    0    0    0    0]\n",
      " [   0    0    0    0    0    0    0    7    0    0    0    0    0]\n",
      " [   0    0    0    0    0    0    0    0   12    0    0    0    0]\n",
      " [   0    0    0    0    0    0    0    0    0   68    0    0    1]\n",
      " [   0    0    0    0    0    0    0    0    0    0   14    0    0]\n",
      " [   0    0    0    0    0    0    0    0    0    0    0   41    0]\n",
      " [   0    0    0    0    0    0    0    0    0    0    0    0 8399]]\n"
     ]
    },
    {
     "data": {
      "image/png": "[encoded data removed]",
      "text/plain": [
       "<Figure size 432x288 with 2 Axes>"
      ]
     },
     "metadata": {
      "needs_background": "light"
     },
     "output_type": "display_data"
    },
    {
     "name": "stdout",
     "output_type": "stream",
     "text": [
      "Accuracy:\n",
      "F1 score:\n"
     ]
    }
   ],
   "source": [
    "    plot_comfusion_matrix(label_types, predict_types, output_path, \"train\")"
   ]
  },
  {
   "cell_type": "code",
   "execution_count": 18,
   "metadata": {},
   "outputs": [
    {
     "name": "stderr",
     "output_type": "stream",
     "text": [
      "0it [00:00, ?it/s]\n",
      "  0%|          | 0/80 [00:00<?, ?it/s]\u001b[A\n",
      " 20%|██        | 16/80 [00:00<00:00, 156.08it/s]\u001b[A\n",
      " 44%|████▍     | 35/80 [00:00<00:00, 163.87it/s]\u001b[A\n",
      " 55%|█████▌    | 44/80 [00:00<00:00, 79.35it/s] \u001b[A\n",
      " 68%|██████▊   | 54/80 [00:00<00:00, 83.05it/s]\u001b[A\n",
      " 90%|█████████ | 72/80 [00:00<00:00, 97.96it/s]\u001b[A\n",
      "1861it [00:10, 182.88it/s]:00<00:00, 107.72it/s]\u001b[A\n",
      "100%|██████████| 30/30 [00:01<00:00, 15.88it/s]\n"
     ]
    }
   ],
   "source": [
    "    # testing data analysis\n",
    "    \n",
    "    # AllenNLP DatasetReader\n",
    "    reader = RelationDatasetReader(\n",
    "        is_training=True, \n",
    "        ace05_reader=ace05_reader, \n",
    "        tokenizer=lambda s: token_indexer.wordpiece_tokenizer(s),\n",
    "        token_indexers={\"tokens\": token_indexer}\n",
    "    )\n",
    "    \n",
    "    test_ds = reader.read(test_path)\n",
    "    \n",
    "    seq_iterator = BasicIterator(batch_size=config.batch_size)\n",
    "    seq_iterator.index_with(vocab)\n",
    "    \n",
    "    predictor = Predictor(model, seq_iterator, cuda_device=0 if USE_GPU else -1)\n",
    "    test_preds = predictor.predict(test_ds) \n",
    "    \n",
    "    label_types = [r_idx2label.get(i.fields['label'].label) for i in test_ds]\n",
    "    predict_types = [r_idx2label.get(i) for i in np.argmax(test_preds, axis=-1)]    "
   ]
  },
  {
   "cell_type": "code",
   "execution_count": 19,
   "metadata": {},
   "outputs": [
    {
     "name": "stdout",
     "output_type": "stream",
     "text": [
      "<class 'list'> 1861\n",
      "[[   4    0    0    1    0    0    0    0    0    0    0    0   18]\n",
      " [   0    6    0    0    0    0    0    0    0    0    0    0   23]\n",
      " [   0    0    0    0    0    0    0    0    0    0    0    0   27]\n",
      " [   0    0    0    0    0    0    0    0    0    0    0    0   13]\n",
      " [   0    0    0    0    0    0    0    0    0    0    0    0   21]\n",
      " [   0    0    1    0    0    0    0    0    0    0    0    0   10]\n",
      " [   0    0    0    0    0    0    0    0    0    0    0    0    3]\n",
      " [   0    0    0    0    0    0    0    0    0    0    0    0   24]\n",
      " [   0    0    0    0    0    0    0    0    0    0    0    0    0]\n",
      " [   0    0    0    0    0    0    0    0    0    0    0    0   23]\n",
      " [   0    0    0    0    0    0    0    0    0    0    0    0   13]\n",
      " [   0    0    0    0    0    0    0    0    0    0    0    0    1]\n",
      " [  28    1    0    1    0    0    0    0    0    0    0    0 1643]]\n"
     ]
    },
    {
     "data": {
      "image/png": "[encoded data removed]",
      "text/plain": [
       "<Figure size 432x288 with 2 Axes>"
      ]
     },
     "metadata": {
      "needs_background": "light"
     },
     "output_type": "display_data"
    },
    {
     "name": "stdout",
     "output_type": "stream",
     "text": [
      "Accuracy:\n",
      "F1 score:\n"
     ]
    }
   ],
   "source": [
    "    plot_comfusion_matrix(label_types, predict_types, output_path, \"test\")"
   ]
  }
 ],
 "metadata": {
  "kernelspec": {
   "display_name": "Python 3",
   "language": "python",
   "name": "python3"
  },
  "language_info": {
   "codemirror_mode": {
    "name": "ipython",
    "version": 3
   },
   "file_extension": ".py",
   "mimetype": "text/x-python",
   "name": "python",
   "nbconvert_exporter": "python",
   "pygments_lexer": "ipython3",
   "version": "3.6.8"
  }
 },
 "nbformat": 4,
 "nbformat_minor": 4
}
