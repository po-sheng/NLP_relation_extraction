{
 "cells": [
  {
   "cell_type": "code",
   "execution_count": 1,
   "metadata": {},
   "outputs": [
    {
     "name": "stderr",
     "output_type": "stream",
     "text": [
      "/usr/local/lib/python3.6/dist-packages/sklearn/utils/linear_assignment_.py:21: DeprecationWarning: The linear_assignment_ module is deprecated in 0.21 and will be removed from 0.23. Use scipy.optimize.linear_sum_assignment instead.\n",
      "  DeprecationWarning)\n"
     ]
    }
   ],
   "source": [
    "import sys\n",
    "sys.path.append(\"/work/multi_doc_analyzer\")\n",
    "sys.path.append(\"/work/relation_extraction/Bert_model/baseline/data/\")\n",
    "\n",
    "import torch as T\n",
    "import numpy as np\n",
    "import torch.nn as nn\n",
    "import torch.optim as optim\n",
    "import torch.cuda\n",
    "from allennlp.nn import util as nn_util\n",
    "from multi_doc_analyzer.structure.structure import *\n",
    "from multi_doc_analyzer.tokenization.tokenizer import MDATokenizer\n",
    "from tqdm import tqdm\n",
    "\n",
    "from allennlp.data.dataset_readers import DatasetReader\n",
    "from allennlp.data.tokenizers import Token\n",
    "from allennlp.data.token_indexers import TokenIndexer\n",
    "\n",
    "from allennlp.data.instance import Instance\n",
    "from allennlp.data.fields import TextField, LabelField, ArrayField\n",
    "\n",
    "from ace05_set_reader import ACE05Reader\n",
    "\n",
    "from allennlp.data.vocabulary import Vocabulary\n",
    "from allennlp.data.iterators import BucketIterator, DataIterator, BasicIterator\n",
    "from allennlp.nn.util import get_text_field_mask\n",
    "from allennlp.models import Model\n",
    "from allennlp.modules.text_field_embedders import TextFieldEmbedder\n",
    "import random\n",
    "\n",
    "from allennlp.data.token_indexers import PretrainedBertIndexer\n",
    "from allennlp.modules.text_field_embedders import BasicTextFieldEmbedder\n",
    "from allennlp.modules.token_embedders.bert_token_embedder import PretrainedBertEmbedder\n",
    "\n",
    "from sklearn.metrics import precision_recall_fscore_support as prs\n",
    "from sklearn.metrics import confusion_matrix\n",
    "import matplotlib.pyplot as plt\n",
    "import csv"
   ]
  },
  {
   "cell_type": "code",
   "execution_count": 2,
   "metadata": {},
   "outputs": [],
   "source": [
    "train_path = \"/work/LDC2006T06/dataset/train/\"\n",
    "test_path = \"/work/LDC2006T06/dataset/test/\"\n",
    "model_folder = \"/work/model_checkpoint/bert_model_checkpoint/bert_modify_seq/\"\n",
    "output_path = \"/work/relation_extraction/Bert_model/bert_modify_seq/analysis/\""
   ]
  },
  {
   "cell_type": "code",
   "execution_count": 3,
   "metadata": {},
   "outputs": [],
   "source": [
    "class Config(dict):\n",
    "    def __init__(self, **kwargs):\n",
    "        super().__init__(**kwargs)\n",
    "        for k, v in kwargs.items():\n",
    "            setattr(self, k, v)\n",
    "    \n",
    "    def set(self, key, val):\n",
    "        self[key] = val\n",
    "        setattr(self, key, val)\n",
    "        \n",
    "config = Config(\n",
    "    seed=1,\n",
    "    batch_size=64,\n",
    "    lr=3e-4,                # learning rate\n",
    "    epochs=25,\n",
    "    mlp_hidden_sz=300,\n",
    "    lstm_hidden_sz=768,\n",
    "    arg_sz=20,              # position embedding size\n",
    "    max_seq_len=100\n",
    ")"
   ]
  },
  {
   "cell_type": "code",
   "execution_count": 4,
   "metadata": {},
   "outputs": [
    {
     "data": {
      "text/plain": [
       "True"
      ]
     },
     "execution_count": 4,
     "metadata": {},
     "output_type": "execute_result"
    }
   ],
   "source": [
    "USE_GPU = T.cuda.is_available()\n",
    "USE_GPU"
   ]
  },
  {
   "cell_type": "code",
   "execution_count": 5,
   "metadata": {},
   "outputs": [
    {
     "data": {
      "text/plain": [
       "<torch._C.Generator at 0x7f46d8322990>"
      ]
     },
     "execution_count": 5,
     "metadata": {},
     "output_type": "execute_result"
    }
   ],
   "source": [
    "# set seed for both CPU and CUDA\n",
    "T.manual_seed(config.seed)"
   ]
  },
  {
   "cell_type": "code",
   "execution_count": 6,
   "metadata": {},
   "outputs": [],
   "source": [
    "e_type2idx = {'X':0, 'O': 1, 'PER': 2, 'ORG': 3, 'LOC': 4, 'GPE': 5, 'FAC': 6, 'VEH': 7, 'WEA': 8}\n",
    "\n",
    "r_label2idx = {'PHYS-lr': 1, 'PART-WHOLE-lr': 2, 'PER-SOC-lr': 3, 'ORG-AFF-lr': 4, 'ART-lr': 5, 'GEN-AFF-lr': 6,\n",
    "               'PHYS-rl': 7, 'PART-WHOLE-rl': 8, 'PER-SOC-rl': 9, 'ORG-AFF-rl': 10, 'ART-rl': 11, 'GEN-AFF-rl': 12,\n",
    "               'NONE': 0}\n",
    "\n",
    "# r_label2idx = {'PHYS': 1, 'PART-WHOLE': 2, 'PER-SOC': 3, 'ORG-AFF': 4, 'ART': 5, 'GEN-AFF': 6, 'NONE': 0}\n",
    "\n",
    "r_idx2label = {v: k for k, v in r_label2idx.items()}\n",
    "\n",
    "class RelationDatasetReader(DatasetReader):\n",
    "    \"\"\"\n",
    "    Reads Structure object formatted datasets files, and creates AllenNLP instances.\n",
    "    \"\"\"\n",
    "    def __init__(self, token_indexers: Dict[str, TokenIndexer]=None, \n",
    "                 MAX_WORDPIECES: int=config.max_seq_len, \n",
    "                 is_training = False, ace05_reader: ACE05Reader=None):\n",
    "        # make sure results may be reproduced when sampling...\n",
    "        super().__init__(lazy=False)\n",
    "        random.seed(0)\n",
    "        self.is_training = is_training\n",
    "        self.ace05_reader = ace05_reader\n",
    "        \n",
    "        # NOTE AllenNLP automatically adds [CLS] and [SEP] word peices in the begining and end of the context,\n",
    "        # therefore we need to subtract 2\n",
    "        self.MAX_WORDPIECES = MAX_WORDPIECES - 2\n",
    "        \n",
    "        # BERT specific init\n",
    "        self._token_indexers = token_indexers\n",
    "\n",
    "    def text_to_instance(self, sentence: Sentence) -> Instance:\n",
    "\n",
    "        e_tuple_check_dicts = {} # {(train_arg_l.id, train_arg_r.id):true_label, ...}\n",
    "        if self.is_training: \n",
    "            for r in sentence.relation_mentions:\n",
    "                train_arg_l, train_arg_r, true_label = r.get_left_right_args()\n",
    "                e_tuple_check_dicts[(train_arg_l.id, train_arg_r.id)] = true_label\n",
    "\n",
    "        # construct pair entities\n",
    "        for arg1_idx in range(len(sentence.entity_mentions)-1):\n",
    "            for arg2_idx in range(arg1_idx+1, len(sentence.entity_mentions)):\n",
    "                field = {}\n",
    "                sentence_tokens = []\n",
    "    \n",
    "                arg1 = sentence.entity_mentions[arg1_idx]\n",
    "                arg2 = sentence.entity_mentions[arg2_idx]\n",
    "                \n",
    "                # dicide which is on the left and redefine\n",
    "                if arg1.char_b >= arg2.char_b:\n",
    "                    entity_l = arg2\n",
    "                    entity_r = arg1\n",
    "                else:\n",
    "                    entity_l = arg1\n",
    "                    entity_r = arg2                    \n",
    "                \n",
    "                # in order to save our two entities which may be splited\n",
    "                ent = [[] for i in range(2)]             # index 0 : 0 for ent_l, 1 for ent_r\n",
    "                \n",
    "                # create our manual form of seq\n",
    "                for i,t in enumerate(sentence.tokens):\n",
    "                    if i >= entity_l.token_b and i < entity_l.token_e:\n",
    "                        ent[0].append(t.text)\n",
    "                        sentence_tokens.append(Token(text=\"[unused\" + str(e_type2idx[entity_l.type]) + \"]\"))\n",
    "                    elif i >= entity_r.token_b and i < entity_r.token_e:\n",
    "                        ent[1].append(t.text)\n",
    "                        sentence_tokens.append(Token(text=\"[unused\" + str(e_type2idx[entity_r.type]) + \"]\"))\n",
    "                    else:\n",
    "                        sentence_tokens.append(Token(text=t.text))\n",
    "                sentence_tokens.append(Token(text=\"[SEP]\"))\n",
    "                for i in range(len(ent[0])):\n",
    "                    sentence_tokens.append(Token(text=ent[0][i]))\n",
    "                sentence_tokens.append(Token(text=\"[SEP]\"))\n",
    "                for i in range(len(ent[1])):\n",
    "                    sentence_tokens.append(Token(text=ent[1][i]))\n",
    "                \n",
    "                sentence_field = TextField(sentence_tokens, self._token_indexers)\n",
    "                fields = {\"tokens\": sentence_field}\n",
    "\n",
    "                arg_vec = T.tensor([[0, 0] for i in range(len(sentence.tokens) + 2)], dtype=T.long)   # long type to feed into embedding layer\n",
    "                \n",
    "                # +1 because the first token is [CLS]\n",
    "                pos = lambda t, b, e: 0 if t >= b and t < e else ( (t-b) if t < b else (t-e+1) ) \n",
    "                for i in range(len(sentence.tokens) + 2):\n",
    "                    arg_vec[i][0] = pos(i-1, entity_l.token_b, entity_l.token_e) + config.max_seq_len    # arg_l position, i-1 for [CLS]\n",
    "                    arg_vec[i][1] = pos(i-1, entity_r.token_b, entity_r.token_e) + config.max_seq_len    # arg_r position, i-1 for [CLS]\n",
    "                fields[\"arg_idx\"] = ArrayField(arg_vec)\n",
    "    \n",
    "                # relation\n",
    "                if self.is_training:\n",
    "                    if (arg1.id, arg2.id) in e_tuple_check_dicts.keys():\n",
    "                        fields[\"label\"] = LabelField(r_label2idx[e_tuple_check_dicts[(arg1.id, arg2.id)]], skip_indexing=True)\n",
    "                    else:\n",
    "                        fields[\"label\"] = LabelField(r_label2idx['NONE'], skip_indexing=True)\n",
    "                yield Instance(fields)\n",
    "    \n",
    "    def _read(self, file_path: str)->Iterator: \n",
    "        doc_dicts = self.ace05_reader.read(file_path)\n",
    "        tokenizer = MDATokenizer('bert-en')\n",
    "        for doc in doc_dicts.values():\n",
    "            tokenizer.annotate_document(doc)\n",
    "            for s in doc.sentences: \n",
    "                if len(s.tokens) <= config.max_seq_len - 2:\n",
    "                    for instance in self.text_to_instance(s):\n",
    "                        yield instance"
   ]
  },
  {
   "cell_type": "code",
   "execution_count": 7,
   "metadata": {},
   "outputs": [],
   "source": [
    "# ace05_reader = ACE05Reader(lang='en')\n",
    "\n",
    "# token_indexer = PretrainedBertIndexer(\n",
    "#     pretrained_model=\"bert-base-uncased\",\n",
    "# #         max_pieces=config.max_seq_len,\n",
    "# #         do_lowercase=False               # for cased condition\n",
    "# )\n",
    "\n",
    "# # AllenNLP DatasetReader\n",
    "# reader = RelationDatasetReader(\n",
    "#     is_training=True, \n",
    "#     ace05_reader=ace05_reader, \n",
    "#     tokenizer=lambda s: token_indexer.wordpiece_tokenizer(s),\n",
    "#     token_indexers={\"tokens\": token_indexer}\n",
    "# )\n",
    "\n",
    "# train_ds = reader.read(train_path)"
   ]
  },
  {
   "cell_type": "code",
   "execution_count": 8,
   "metadata": {},
   "outputs": [],
   "source": [
    "class BERT(Model):\n",
    "    def __init__(self, word_embeddings: TextFieldEmbedder,\n",
    "                out_sz: int=len(r_label2idx)):\n",
    "        super().__init__(vocab)\n",
    "        self.word_embeddings = word_embeddings\n",
    "        self._position_embeddings = T.nn.Embedding(num_embeddings=(config.max_seq_len)*2, embedding_dim=config.arg_sz, padding_idx=0)\n",
    "        \n",
    "        # bert output is of dimension 768\n",
    "        self.lstm = T.nn.LSTM(input_size=768 + 2*config.arg_sz, hidden_size=768, batch_first=True, bidirectional=True)\n",
    "        self.projection1 = nn.Linear(config.lstm_hidden_sz * 2, config.mlp_hidden_sz)\n",
    "        self.projection2 = nn.Linear(config.mlp_hidden_sz, out_sz)\n",
    "        self.loss = nn.CrossEntropyLoss()\n",
    "        \n",
    "    def forward(self, tokens: Dict[str, T.tensor], arg_idx: T.tensor, label: T.tensor = None) -> Dict[str, T.tensor]:\n",
    "        mask = get_text_field_mask(tokens)\n",
    "#         print(tokens)\n",
    "#         print(arg_idx.shape)\n",
    "        embeddings = self.word_embeddings(tokens)\n",
    "#         print(embeddings.shape)\n",
    "        arg_idx = arg_idx.type(T.long)\n",
    "        \n",
    "#         cut_len = 0\n",
    "#         for i in range(len(arg_idx)):\n",
    "#             for j in range(len(arg_idx[i])-1, -1, -1):\n",
    "#                 if arg_idx[i][j][0] != config.max_seq_len-1 or arg_idx[i][j][1] != config.max_seq_len-1:\n",
    "#                     pad_len = j+1\n",
    "# #                     print(pad_len, arg_idx[i][j][0], arg_idx[i][j][1])\n",
    "#                     break\n",
    "#             if pad_len > cut_len:\n",
    "#                 cut_len = pad_len\n",
    "\n",
    "#         print(cut_len)\n",
    "        cut_len = max(len(arg_idx[i]) for i in range(len(arg_idx)))    # for epoch = 1\n",
    "        \n",
    "        embeddings = embeddings[:,:cut_len,:]\n",
    "#         arg_idx = arg_idx[:,:cut_len,:]\n",
    "#         print(arg_idx)\n",
    "#         print(embeddings.shape)\n",
    "        arg_emb = self._position_embeddings(arg_idx)\n",
    "        arg_cat = T.cat((arg_emb[:,:,0,:], arg_emb[:,:,1,:]), -1)\n",
    "#         print(arg_emb)\n",
    "#         print(arg_cat)\n",
    "        concat = T.cat((embeddings, arg_cat), -1)\n",
    "#         print(concat)\n",
    "        ot, hs = self.lstm(concat)\n",
    "        \n",
    "        mlp_hs = self.projection1(ot[:, -1, :])\n",
    "#         print(mlp_hs)\n",
    "        class_logits = self.projection2(mlp_hs)\n",
    "#         print(label)\n",
    "        output = {\"class_logits\": class_logits}\n",
    "        output[\"loss\"] = self.loss(class_logits, label)\n",
    "\n",
    "        return output"
   ]
  },
  {
   "cell_type": "code",
   "execution_count": 9,
   "metadata": {},
   "outputs": [],
   "source": [
    "from scipy.special import expit # the sigmoid function\n",
    "def tonp(tsr): return tsr.detach().cpu().numpy()"
   ]
  },
  {
   "cell_type": "code",
   "execution_count": 10,
   "metadata": {},
   "outputs": [],
   "source": [
    "# Predict\n",
    "class Predictor:\n",
    "    def __init__(self, model: Model, iterator: DataIterator,\n",
    "                 cuda_device: int=-1) -> None:\n",
    "        self.model = model\n",
    "        self.iterator = iterator\n",
    "        self.cuda_device = cuda_device\n",
    "        \n",
    "    def _extract_data(self, batch) -> np.ndarray:\n",
    "        out_dict = self.model(**batch)\n",
    "        return expit(tonp(out_dict[\"class_logits\"]))\n",
    "    \n",
    "    def predict(self, ds: Iterable[Instance]) -> np.ndarray:\n",
    "        pred_generator = self.iterator(ds, num_epochs=1, shuffle=False)\n",
    "        self.model.eval()\n",
    "        pred_generator_tqdm = tqdm(pred_generator, total=self.iterator.get_num_batches(ds))\n",
    "        preds = []\n",
    "        with T.no_grad():\n",
    "            for batch in pred_generator_tqdm:\n",
    "                batch = nn_util.move_to_device(batch, self.cuda_device)\n",
    "                preds.append(self._extract_data(batch))\n",
    "        return np.concatenate(preds, axis=0)"
   ]
  },
  {
   "cell_type": "code",
   "execution_count": 11,
   "metadata": {},
   "outputs": [],
   "source": [
    "def plot_comfusion_matrix(label_classes, predict_classes, out_folder, file_name):\n",
    "    label_types = list(r_idx2label.values())\n",
    "\n",
    "    cm = confusion_matrix(label_classes, predict_classes, label_types)\n",
    "    print(cm)\n",
    "    fig = plt.figure()\n",
    "    ax = fig.add_subplot(111)\n",
    "    cax = ax.matshow(cm)\n",
    "    for (i, j), z in np.ndenumerate(cm):\n",
    "        ax.text(j, i, '{:0.0f}'.format(z), ha='center', va='center', color='white')\n",
    "    fig.colorbar(cax)\n",
    "    ax.set_xticklabels([''] + label_types)\n",
    "    ax.set_yticklabels([''] + label_types)\n",
    "    plt.xlabel('Predicted')\n",
    "    plt.ylabel('True')\n",
    "\n",
    "    plt.savefig(out_folder + 'confusion_matrix_' + file_name + '.png')\n",
    "    plt.show()\n",
    "    \n",
    "    # remove the data which is none or predict none\n",
    "    \n",
    "    pre, recall, f1, sup = prs(label_classes, predict_classes, average='macro')\n",
    "    \n",
    "    print(\"Accuracy:\", sum(cm[i][i] for i in range(len(cm))) / len(label_classes))\n",
    "    print(\"Precision:\", pre)\n",
    "    print(\"Recall:\", recall)\n",
    "    print(\"F1 score:\", f1)"
   ]
  },
  {
   "cell_type": "code",
   "execution_count": 12,
   "metadata": {},
   "outputs": [],
   "source": [
    "def err_analyze(ds, true, pred, opt):\n",
    "    \n",
    "    # classify different kinds of error\n",
    "    detail = [[[] for j in range(len(r_label2idx))] for i in range(len(r_label2idx))]\n",
    "    for i in range(len(ds)):\n",
    "         if true[i] != pred[i]:\n",
    "            detail[r_label2idx[true[i]]][r_label2idx[pred[i]]].append(i)\n",
    "    \n",
    "    # print into a csv file\n",
    "    with open(output_path + \"error_detail_\" + opt + \".csv\", \"w\", newline='') as f:\n",
    "        writer = csv.writer(f)\n",
    "        writer.writerow([\"Sentence\", \"Two_Entity\", \"Predict\", \"Label\", \"idx\"])\n",
    "        for j in range(len(detail)):\n",
    "            for k in range(len(detail)):\n",
    "                with_element = 0\n",
    "                if k == j:\n",
    "                    continue\n",
    "                for i in detail[j][k]:\n",
    "                    with_element = 1\n",
    "                    ent1 = []\n",
    "                    ent2 = []\n",
    "                    for g in range(len(vars(ds[i].fields['arg_idx'])['array'])):\n",
    "                        if int(vars(ds[i].fields['arg_idx'])['array'][g][0]) == 100 or int(vars(ds[i].fields['arg_idx'])['array'][g][1]) == 100:\n",
    "                            if int(vars(ds[i].fields['arg_idx'])['array'][g][0]) == 100:\n",
    "                                ent1.append(vars(ds[i].fields['tokens'])['tokens'][g-1])\n",
    "                            else:\n",
    "                                ent2.append(vars(ds[i].fields['tokens'])['tokens'][g-1])\n",
    "    \n",
    "                    tostr = lambda a: [str(a[i]) for i in range(len(a))] \n",
    "                    writer.writerow([\" \".join(tostr(vars(ds[i].fields['tokens'])['tokens'])), [ent1, ent2], pred[i], true[i], i])\n",
    "                if with_element == 1:\n",
    "                    writer.writerow(\"\")"
   ]
  },
  {
   "cell_type": "code",
   "execution_count": 13,
   "metadata": {},
   "outputs": [
    {
     "name": "stderr",
     "output_type": "stream",
     "text": [
      "0it [00:00, ?it/s]\n",
      "  0%|          | 0/351 [00:00<?, ?it/s]\u001b[A\n",
      "  4%|▍         | 15/351 [00:00<00:02, 148.97it/s]\u001b[A\n",
      "  9%|▉         | 33/351 [00:00<00:02, 156.15it/s]\u001b[A\n",
      " 14%|█▍        | 49/351 [00:00<00:01, 156.35it/s]\u001b[A\n",
      " 20%|█▉        | 70/351 [00:00<00:01, 165.24it/s]\u001b[A\n",
      " 25%|██▌       | 88/351 [00:00<00:01, 168.50it/s]\u001b[A\n",
      " 29%|██▉       | 103/351 [00:00<00:01, 160.75it/s]\u001b[A\n",
      " 34%|███▎      | 118/351 [00:00<00:01, 132.22it/s]\u001b[A\n",
      " 37%|███▋      | 131/351 [00:00<00:01, 124.82it/s]\u001b[A\n",
      " 41%|████      | 144/351 [00:01<00:01, 114.41it/s]\u001b[A\n",
      " 45%|████▌     | 158/351 [00:01<00:01, 117.67it/s]\u001b[A\n",
      " 49%|████▊     | 171/351 [00:01<00:01, 118.74it/s]\u001b[A\n",
      " 54%|█████▍    | 189/351 [00:01<00:01, 131.74it/s]\u001b[A\n",
      " 58%|█████▊    | 205/351 [00:01<00:02, 58.44it/s] \u001b[A\n",
      " 62%|██████▏   | 218/351 [00:02<00:01, 69.10it/s]\u001b[A\n",
      " 66%|██████▌   | 230/351 [00:02<00:01, 78.34it/s]\u001b[A\n",
      " 71%|███████   | 248/351 [00:02<00:01, 92.35it/s]\u001b[A\n",
      " 75%|███████▌  | 264/351 [00:02<00:00, 103.32it/s]\u001b[A\n",
      " 83%|████████▎ | 290/351 [00:02<00:00, 125.65it/s]\u001b[A\n",
      " 87%|████████▋ | 307/351 [00:02<00:00, 128.40it/s]\u001b[A\n",
      " 92%|█████████▏| 323/351 [00:02<00:00, 129.28it/s]\u001b[A\n",
      " 96%|█████████▋| 338/351 [00:02<00:00, 121.03it/s]\u001b[A\n",
      "2187it [00:25, 65.11it/s][00:03<00:00, 116.77it/s]\u001b[A"
     ]
    },
    {
     "name": "stdout",
     "output_type": "stream",
     "text": [
      "ORG-AFF\n",
      "FBI\n",
      "FBI\n",
      "error! relation argument positions error!\n",
      "ORG-AFF\n",
      "Department\n",
      "Department\n",
      "error! relation argument positions error!\n",
      "ORG-AFF\n",
      "CIA\n",
      "CIA\n",
      "error! relation argument positions error!\n"
     ]
    },
    {
     "name": "stderr",
     "output_type": "stream",
     "text": [
      "65310it [01:47, 608.19it/s] \n"
     ]
    },
    {
     "name": "stdout",
     "output_type": "stream",
     "text": [
      "65310\n"
     ]
    }
   ],
   "source": [
    "\n",
    "if __name__ == '__main__':\n",
    "\n",
    "    ace05_reader = ACE05Reader(lang='en')\n",
    "    \n",
    "    token_indexer = PretrainedBertIndexer(\n",
    "        pretrained_model=\"bert-base-uncased\",\n",
    "#         do_lowercase=False               # for cased condition\n",
    "    )\n",
    " \n",
    "\t# AllenNLP DatasetReader\n",
    "    reader = RelationDatasetReader(\n",
    "        is_training=True, \n",
    "        ace05_reader=ace05_reader, \n",
    "        token_indexers={\"tokens\": token_indexer}\n",
    "    )\n",
    "\n",
    "    train_ds = reader.read(train_path)\n",
    "    print(len(train_ds))\n",
    "#     for e in range(20):\n",
    "#         print(len(vars(train_ds[e].fields['tokens'])['tokens']))\n",
    "#         print(vars(train_ds[e].fields['tokens']))\n",
    "#         print(len(vars(train_ds[0].fields['arg_idx'])['array']))\n",
    "#         print(vars(train_ds[e].fields['arg_idx']))\n",
    "#         print(vars(train_ds[e].fields['label']))\n",
    "    \n",
    "    # user-defined new label\n",
    "#     new_token = {\"bert-pretrained\": [\"[\" + i +\"]\" for i in e_type2idx.keys()]}\n",
    "#     print(type(new_token[\"tokens\"]))\n",
    "#     vocab = Vocabulary(tokens_to_add=new_token)\n",
    "    vocab = Vocabulary()\n",
    "#     print(vocab.get_index_to_token_vocabulary(namespace=\"token\"))\n",
    "#     print(type(vocab))\n",
    "    iterator = BucketIterator(batch_size=config.batch_size, sorting_keys=[(\"tokens\", \"num_tokens\")])\n",
    "    iterator.index_with(vocab)\n",
    "\n",
    "    bert_embedder = PretrainedBertEmbedder(\n",
    "        pretrained_model=\"bert-base-uncased\",\n",
    "        top_layer_only=True, # conserve memory   \n",
    "    )\n",
    "    \n",
    "#     bert_embedder.vocab={\"[per]\":500000 , \"[org]\": 60000000}\n",
    "    \n",
    "    word_embeddings: TextFieldEmbedder = BasicTextFieldEmbedder({\"tokens\": bert_embedder},\n",
    "                                                                # we'll be ignoring masks so we'll need to set this to True\n",
    "                                                               allow_unmatched_keys = True)\n",
    "#     print(vocab.by_name(\"default\"))\n",
    "#     print(token_indexer.tokens_to_indices([Token(text=\"[unused100]\")], vocab, \"test\"))\n",
    "#     print(vocab.get_index_to_token_vocabulary(namespace=\"bert\"))\n",
    "    model = BERT(word_embeddings)\n",
    "    if USE_GPU:\n",
    "        model.cuda()\n",
    "\n",
    "    optimizer = optim.Adam(model.parameters(), lr=config.lr)"
   ]
  },
  {
   "cell_type": "code",
   "execution_count": 14,
   "metadata": {},
   "outputs": [],
   "source": [
    "    # training\n",
    "    from allennlp.training.trainer import Trainer\n",
    "\n",
    "    trainer = Trainer(\n",
    "        model=model,\n",
    "        optimizer=optimizer,\n",
    "        iterator=iterator,\n",
    "        train_dataset=train_ds,\n",
    "        cuda_device=0 if USE_GPU else -1,\n",
    "        num_epochs=config.epochs,\n",
    "    )"
   ]
  },
  {
   "cell_type": "code",
   "execution_count": 15,
   "metadata": {},
   "outputs": [
    {
     "name": "stderr",
     "output_type": "stream",
     "text": [
      "loss: 0.2833 ||: 100%|██████████| 1021/1021 [02:29<00:00,  6.86it/s]\n",
      "loss: 0.2010 ||: 100%|██████████| 1021/1021 [02:13<00:00,  6.62it/s]\n",
      "loss: 0.1653 ||: 100%|██████████| 1021/1021 [02:15<00:00,  8.81it/s]\n",
      "loss: 0.1425 ||: 100%|██████████| 1021/1021 [02:14<00:00,  7.79it/s]\n",
      "loss: 0.1223 ||: 100%|██████████| 1021/1021 [02:15<00:00,  7.82it/s]\n",
      "loss: 0.1022 ||: 100%|██████████| 1021/1021 [02:14<00:00,  8.25it/s]\n",
      "loss: 0.0844 ||: 100%|██████████| 1021/1021 [02:14<00:00,  9.03it/s]\n",
      "loss: 0.0669 ||: 100%|██████████| 1021/1021 [02:14<00:00,  8.01it/s]\n",
      "loss: 0.0534 ||: 100%|██████████| 1021/1021 [02:14<00:00,  7.59it/s]\n",
      "loss: 0.0418 ||: 100%|██████████| 1021/1021 [02:15<00:00,  8.33it/s]\n",
      "loss: 0.0364 ||: 100%|██████████| 1021/1021 [02:14<00:00,  5.98it/s]\n",
      "loss: 0.0260 ||: 100%|██████████| 1021/1021 [02:14<00:00,  9.58it/s]\n",
      "loss: 0.0253 ||: 100%|██████████| 1021/1021 [02:14<00:00,  7.60it/s]\n",
      "loss: 0.0214 ||: 100%|██████████| 1021/1021 [02:17<00:00,  7.17it/s]\n",
      "loss: 0.0194 ||: 100%|██████████| 1021/1021 [02:14<00:00,  7.61it/s]\n",
      "loss: 0.0158 ||: 100%|██████████| 1021/1021 [02:14<00:00,  7.61it/s]\n",
      "loss: 0.0159 ||: 100%|██████████| 1021/1021 [02:14<00:00,  7.19it/s]\n",
      "loss: 0.0151 ||: 100%|██████████| 1021/1021 [02:15<00:00,  8.22it/s]\n",
      "loss: 0.0140 ||: 100%|██████████| 1021/1021 [02:14<00:00,  5.89it/s]\n",
      "loss: 0.0133 ||: 100%|██████████| 1021/1021 [02:14<00:00,  7.59it/s]\n",
      "loss: 0.0107 ||: 100%|██████████| 1021/1021 [02:14<00:00,  6.35it/s]\n",
      "loss: 0.0109 ||: 100%|██████████| 1021/1021 [02:10<00:00,  7.83it/s]\n",
      "loss: 0.0118 ||: 100%|██████████| 1021/1021 [02:14<00:00,  7.57it/s]\n",
      "loss: 0.0079 ||: 100%|██████████| 1021/1021 [02:13<00:00,  8.06it/s]\n",
      "loss: 0.0108 ||: 100%|██████████| 1021/1021 [02:14<00:00,  9.21it/s]\n"
     ]
    }
   ],
   "source": [
    "    # train the model \n",
    "    metrics = trainer.train()"
   ]
  },
  {
   "cell_type": "code",
   "execution_count": 16,
   "metadata": {},
   "outputs": [],
   "source": [
    "    # load model\n",
    "#     model.load_state_dict(T.load(model_folder + \"model.th\"))"
   ]
  },
  {
   "cell_type": "code",
   "execution_count": 17,
   "metadata": {},
   "outputs": [],
   "source": [
    "    # save \n",
    "    with open(model_folder+'model.th', 'wb') as f:\n",
    "        T.save(model.state_dict(), f)"
   ]
  },
  {
   "cell_type": "code",
   "execution_count": 18,
   "metadata": {},
   "outputs": [
    {
     "name": "stderr",
     "output_type": "stream",
     "text": [
      "100%|██████████| 1021/1021 [02:06<00:00,  8.07it/s]\n"
     ]
    }
   ],
   "source": [
    "    # training data analysis\n",
    "    seq_iterator = BasicIterator(batch_size=config.batch_size)\n",
    "    seq_iterator.index_with(vocab)\n",
    "    \n",
    "    predictor = Predictor(model, seq_iterator, cuda_device=0 if USE_GPU else -1)\n",
    "    train_preds = predictor.predict(train_ds) \n",
    "    \n",
    "    label_types = [r_idx2label.get(i.fields['label'].label) for i in train_ds]\n",
    "    predict_types = [r_idx2label.get(i) for i in np.argmax(train_preds, axis=-1)]\n",
    "    err_analyze(train_ds, label_types, predict_types, \"train\")"
   ]
  },
  {
   "cell_type": "code",
   "execution_count": 19,
   "metadata": {},
   "outputs": [
    {
     "name": "stdout",
     "output_type": "stream",
     "text": [
      "[[  575     2     0     1     0     0     1     1     0     0     0     0\n",
      "     42]\n",
      " [    2   261     0     1     0     1     0     1     0     0     0     0\n",
      "      1]\n",
      " [    0     0   235     1     0     0     0     0     0     2     0     1\n",
      "     21]\n",
      " [    1     4     0   310     0     1     0     0     0     2     0     0\n",
      "     32]\n",
      " [    0     0     0     0   228     0     0     1     0     0     0     0\n",
      "     34]\n",
      " [    2    15     0     0     0   108     0     0     0     0     0     0\n",
      "      9]\n",
      " [    0     0     0     0     0     0   104     0     0     0     1     0\n",
      "      3]\n",
      " [    0     1     0     0     1     1     0   208     0     0     0     0\n",
      "     14]\n",
      " [    0     0     7     0     1     0     0     0    11     0     0     0\n",
      "      2]\n",
      " [    0     0     4     0     2     0     0     3     0   447     2     6\n",
      "     70]\n",
      " [    0     0     0     0     0     0     1     0     0     0    42     0\n",
      "      3]\n",
      " [    0     0     1     1     1     2     2     0     0     2     2   133\n",
      "     32]\n",
      " [    9     8     4     2     9     1     5     6     0     1     7     4\n",
      "  62248]]\n"
     ]
    },
    {
     "data": {
      "image/png": "[encoded data removed]",
      "text/plain": [
       "<Figure size 432x288 with 2 Axes>"
      ]
     },
     "metadata": {
      "needs_background": "light"
     },
     "output_type": "display_data"
    },
    {
     "name": "stdout",
     "output_type": "stream",
     "text": [
      "Accuracy: 0.9938753636502833\n",
      "Precision: 0.940576506995012\n",
      "Recall: 0.8677337069598476\n",
      "F1 score: 0.8959082201368863\n"
     ]
    }
   ],
   "source": [
    "    plot_comfusion_matrix(label_types, predict_types, output_path, \"train_full\")"
   ]
  },
  {
   "cell_type": "code",
   "execution_count": 20,
   "metadata": {},
   "outputs": [
    {
     "name": "stderr",
     "output_type": "stream",
     "text": [
      "0it [00:00, ?it/s]\n",
      "  0%|          | 0/80 [00:00<?, ?it/s]\u001b[A\n",
      " 21%|██▏       | 17/80 [00:00<00:00, 159.47it/s]\u001b[A\n",
      " 46%|████▋     | 37/80 [00:00<00:00, 168.72it/s]\u001b[A\n",
      " 65%|██████▌   | 52/80 [00:00<00:00, 162.14it/s]\u001b[A\n",
      " 90%|█████████ | 72/80 [00:00<00:00, 167.72it/s]\u001b[A\n",
      "13522it [00:29, 460.36it/s]00<00:00, 163.90it/s]\u001b[A\n",
      "  0%|          | 0/212 [00:00<?, ?it/s]"
     ]
    },
    {
     "name": "stdout",
     "output_type": "stream",
     "text": [
      "13522\n"
     ]
    },
    {
     "name": "stderr",
     "output_type": "stream",
     "text": [
      "100%|██████████| 212/212 [00:29<00:00,  9.00it/s]\n"
     ]
    }
   ],
   "source": [
    "    # testing data analysis\n",
    "    \n",
    "    # AllenNLP DatasetReader\n",
    "    reader = RelationDatasetReader(\n",
    "        is_training=True, \n",
    "        ace05_reader=ace05_reader, \n",
    "        token_indexers={\"tokens\": token_indexer}\n",
    "    )\n",
    "    \n",
    "    test_ds = reader.read(test_path)\n",
    "    print(len(test_ds))\n",
    "    seq_iterator = BasicIterator(batch_size=config.batch_size)\n",
    "    seq_iterator.index_with(vocab)\n",
    "    \n",
    "    predictor = Predictor(model, seq_iterator, cuda_device=0 if USE_GPU else -1)\n",
    "    test_preds = predictor.predict(test_ds) \n",
    "    \n",
    "    label_types = [r_idx2label.get(i.fields['label'].label) for i in test_ds]\n",
    "    predict_types = [r_idx2label.get(i) for i in np.argmax(test_preds, axis=-1)]  \n",
    "    \n",
    "    err_analyze(test_ds, label_types, predict_types, \"test\")"
   ]
  },
  {
   "cell_type": "code",
   "execution_count": 21,
   "metadata": {},
   "outputs": [
    {
     "name": "stdout",
     "output_type": "stream",
     "text": [
      "[[   26     2     0     1     0     0     0     0     0     0     0     0\n",
      "    120]\n",
      " [    3    28     0     0     0     0     0     0     0     0     0     0\n",
      "     31]\n",
      " [    0     0    13     0     0     0     0     0     0     1     0     0\n",
      "     39]\n",
      " [    2     3     1     8     0     2     0     0     0     0     0     0\n",
      "     45]\n",
      " [    0     0     0     0    12     0     0     2     0     0     0     0\n",
      "     73]\n",
      " [    3     6     0     2     0     3     0     0     0     0     0     0\n",
      "     14]\n",
      " [    0     0     0     0     0     0     5     0     0     0     0     0\n",
      "     28]\n",
      " [    0     2     0     0     1     0     0     5     0     1     0     0\n",
      "     45]\n",
      " [    0     0     1     0     0     0     0     0     0     0     0     0\n",
      "      0]\n",
      " [    0     0     1     0     3     1     0     4     0    30     0     1\n",
      "    132]\n",
      " [    0     1     0     0     1     0     3     0     0     0     0     0\n",
      "     13]\n",
      " [    0     0     0     0     0     0     0     2     0     1     0     7\n",
      "     23]\n",
      " [   35    40    10    11    13     2     5    16     0    13     1     5\n",
      "  12620]]\n"
     ]
    },
    {
     "data": {
      "image/png": "[encoded data removed]",
      "text/plain": [
       "<Figure size 432x288 with 2 Axes>"
      ]
     },
     "metadata": {
      "needs_background": "light"
     },
     "output_type": "display_data"
    },
    {
     "name": "stdout",
     "output_type": "stream",
     "text": [
      "Accuracy: 0.9434255287679337\n",
      "Precision: 0.38937457582536344\n",
      "Recall: 0.22049522283784004\n",
      "F1 score: 0.26238777574885236\n"
     ]
    },
    {
     "name": "stderr",
     "output_type": "stream",
     "text": [
      "/usr/local/lib/python3.6/dist-packages/sklearn/metrics/classification.py:1437: UndefinedMetricWarning: Precision and F-score are ill-defined and being set to 0.0 in labels with no predicted samples.\n",
      "  'precision', 'predicted', average, warn_for)\n"
     ]
    }
   ],
   "source": [
    "    plot_comfusion_matrix(label_types, predict_types, output_path, \"test_full\")"
   ]
  },
  {
   "cell_type": "code",
   "execution_count": null,
   "metadata": {},
   "outputs": [],
   "source": []
  }
 ],
 "metadata": {
  "kernelspec": {
   "display_name": "Python 3",
   "language": "python",
   "name": "python3"
  },
  "language_info": {
   "codemirror_mode": {
    "name": "ipython",
    "version": 3
   },
   "file_extension": ".py",
   "mimetype": "text/x-python",
   "name": "python",
   "nbconvert_exporter": "python",
   "pygments_lexer": "ipython3",
   "version": "3.6.8"
  }
 },
 "nbformat": 4,
 "nbformat_minor": 4
}
