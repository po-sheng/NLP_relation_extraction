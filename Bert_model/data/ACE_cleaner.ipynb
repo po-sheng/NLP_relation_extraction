{
 "cells": [
  {
   "cell_type": "code",
   "execution_count": 5,
   "metadata": {},
   "outputs": [],
   "source": [
    "import sys\n",
    "sys.path.append(\"/work/multi_doc_analyzer/\")\n",
    "\n",
    "from multi_doc_analyzer.structure.structure import *\n",
    "from multi_doc_analyzer.corpus_reader.ace2005_reader.ace05_reader import ACE05Reader"
   ]
  },
  {
   "cell_type": "code",
   "execution_count": 1,
   "metadata": {},
   "outputs": [],
   "source": [
    "def cleaner(doc):\n",
    "    \n",
    "    return "
   ]
  },
  {
   "cell_type": "code",
   "execution_count": 4,
   "metadata": {},
   "outputs": [],
   "source": [
    "if __name__ == \"__main__\":\n",
    "    reader = ACE05Reader('en')\n",
    "    doc = reader.read('/work/LDC2006T06/')\n",
    "    mydoc = doc_dicts['AGGRESSIVEVOICEDAILY_20041101.1144']\n",
    "    string, cleaner(mydoc)"
   ]
  }
 ],
 "metadata": {
  "kernelspec": {
   "display_name": "Python 3",
   "language": "python",
   "name": "python3"
  },
  "language_info": {
   "codemirror_mode": {
    "name": "ipython",
    "version": 3
   },
   "file_extension": ".py",
   "mimetype": "text/x-python",
   "name": "python",
   "nbconvert_exporter": "python",
   "pygments_lexer": "ipython3",
   "version": "3.6.8"
  }
 },
 "nbformat": 4,
 "nbformat_minor": 4
}
